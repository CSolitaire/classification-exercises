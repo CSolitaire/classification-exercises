{
 "cells": [
  {
   "cell_type": "markdown",
   "metadata": {},
   "source": [
    "# Classification Exercises \n",
    "#### Corey Solitaire\n",
    "#### 9/8/2020"
   ]
  },
  {
   "cell_type": "code",
   "execution_count": 2,
   "metadata": {},
   "outputs": [],
   "source": [
    "import pandas as pd\n",
    "import numpy as np\n",
    "import os\n",
    "\n",
    "import matplotlib.pyplot as plt\n",
    "%matplotlib inline\n",
    "import seaborn as sns\n",
    "\n",
    "from math import sqrt\n",
    "from scipy import stats"
   ]
  },
  {
   "cell_type": "markdown",
   "metadata": {},
   "source": [
    "# Data Acquisition"
   ]
  },
  {
   "cell_type": "markdown",
   "metadata": {},
   "source": [
    "# 1 In a jupyter notebook, classification_exercises.ipynb, use a python module (pydata or seaborn datasets) containing datasets as a source from the iris data. Create a pandas dataframe, df_iris, from this data."
   ]
  },
  {
   "cell_type": "code",
   "execution_count": null,
   "metadata": {},
   "outputs": [],
   "source": [
    "iris = sns.load_dataset('iris')"
   ]
  },
  {
   "cell_type": "markdown",
   "metadata": {},
   "source": [
    "###   - print the first 3 rows\n",
    "    "
   ]
  },
  {
   "cell_type": "code",
   "execution_count": null,
   "metadata": {},
   "outputs": [],
   "source": [
    "print(iris.head(3))"
   ]
  },
  {
   "cell_type": "markdown",
   "metadata": {},
   "source": [
    "###     - print the number of rows and columns (shape)\n",
    "    "
   ]
  },
  {
   "cell_type": "code",
   "execution_count": null,
   "metadata": {},
   "outputs": [],
   "source": [
    "print(iris.shape)"
   ]
  },
  {
   "cell_type": "markdown",
   "metadata": {},
   "source": [
    "###    - print the column names\n",
    "    "
   ]
  },
  {
   "cell_type": "code",
   "execution_count": null,
   "metadata": {},
   "outputs": [],
   "source": [
    "print(iris.columns)"
   ]
  },
  {
   "cell_type": "markdown",
   "metadata": {},
   "source": [
    "###    - print the data type of each column\n",
    "    "
   ]
  },
  {
   "cell_type": "code",
   "execution_count": null,
   "metadata": {},
   "outputs": [],
   "source": [
    "print(iris.dtypes)"
   ]
  },
  {
   "cell_type": "code",
   "execution_count": null,
   "metadata": {},
   "outputs": [],
   "source": [
    "#more info is necessary\n",
    "iris.info()"
   ]
  },
  {
   "cell_type": "markdown",
   "metadata": {},
   "source": [
    "###     - print the summary statistics for each of the numeric variables. Would you recommend rescaling the data based on these statistics?"
   ]
  },
  {
   "cell_type": "code",
   "execution_count": null,
   "metadata": {},
   "outputs": [],
   "source": [
    "print(iris.describe())"
   ]
  },
  {
   "cell_type": "code",
   "execution_count": null,
   "metadata": {},
   "outputs": [],
   "source": [
    "print(iris.sepal_length.var(),\n",
    "iris.sepal_width.var(),\n",
    "iris.petal_length.var(),\n",
    "iris.petal_width.var())"
   ]
  },
  {
   "cell_type": "markdown",
   "metadata": {},
   "source": [
    "#### Petal length is much more variable then other measurments, I might reccomend scaling depending on the factors being examined"
   ]
  },
  {
   "cell_type": "markdown",
   "metadata": {},
   "source": [
    "# 2. Read the Table1_CustDetails table from the Excel_Exercises.xlsx file into a dataframe named df_excel."
   ]
  },
  {
   "cell_type": "code",
   "execution_count": null,
   "metadata": {},
   "outputs": [],
   "source": [
    "customer = pd.read_excel('Spreadsheets_Exercises.xlsx')\n",
    "customer.head()"
   ]
  },
  {
   "cell_type": "markdown",
   "metadata": {},
   "source": [
    "###      -assign the first 100 rows to a new dataframe, df_excel_sample"
   ]
  },
  {
   "cell_type": "code",
   "execution_count": null,
   "metadata": {},
   "outputs": [],
   "source": [
    "df_excel_sample = customer.head(100)\n",
    "df_excel_sample.info"
   ]
  },
  {
   "cell_type": "markdown",
   "metadata": {},
   "source": [
    "###      -print the number of rows of your original dataframe"
   ]
  },
  {
   "cell_type": "code",
   "execution_count": null,
   "metadata": {},
   "outputs": [],
   "source": [
    "print(customer.shape)"
   ]
  },
  {
   "cell_type": "code",
   "execution_count": null,
   "metadata": {},
   "outputs": [],
   "source": [
    "#alternate option\n",
    "customer.shape[0]"
   ]
  },
  {
   "cell_type": "markdown",
   "metadata": {},
   "source": [
    "###      -print the first 5 column names"
   ]
  },
  {
   "cell_type": "code",
   "execution_count": null,
   "metadata": {},
   "outputs": [],
   "source": [
    "print(\"Select First 5 columns:\")\n",
    "print(customer[['customer_id', 'gender', 'is_senior_citizen', 'partner', 'dependents']])"
   ]
  },
  {
   "cell_type": "code",
   "execution_count": null,
   "metadata": {},
   "outputs": [],
   "source": [
    "# alternate method\n",
    "\n",
    "customer.columns[:5]"
   ]
  },
  {
   "cell_type": "markdown",
   "metadata": {},
   "source": [
    "###      -print the column names that have a data type of object"
   ]
  },
  {
   "cell_type": "code",
   "execution_count": null,
   "metadata": {},
   "outputs": [],
   "source": [
    "filteredColumns = customer.dtypes[customer.dtypes == np.object]\n",
    "listOfColumnNames = list(filteredColumns.index)\n",
    "print(listOfColumnNames)"
   ]
  },
  {
   "cell_type": "markdown",
   "metadata": {},
   "source": [
    "###     -compute the range for each of the numeric variables."
   ]
  },
  {
   "cell_type": "code",
   "execution_count": null,
   "metadata": {},
   "outputs": [],
   "source": [
    "#Transcribes table\n",
    "stats =customer._get_numeric_data().describe().T\n",
    "stats"
   ]
  },
  {
   "cell_type": "code",
   "execution_count": null,
   "metadata": {},
   "outputs": [],
   "source": [
    "stats['range'] = stats['max'] - stats['min']\n",
    "stats[['mean', '50%', 'std', 'range']]"
   ]
  },
  {
   "cell_type": "markdown",
   "metadata": {},
   "source": [
    "# 3. Read the data from this google sheet into a dataframe, df_google"
   ]
  },
  {
   "cell_type": "code",
   "execution_count": null,
   "metadata": {},
   "outputs": [],
   "source": [
    "sheet_url = 'https://docs.google.com/spreadsheets/d/1Uhtml8KY19LILuZsrDtlsHHDC9wuDGUSe8LTEwvdI5g/edit#gid=341089357'    \n",
    "\n",
    "csv_export_url = sheet_url.replace('/edit#gid=', '/export?format=csv&gid=')\n",
    "\n",
    "df_googlesheet = pd.read_csv(csv_export_url)\n",
    "df_googlesheet.head()"
   ]
  },
  {
   "cell_type": "markdown",
   "metadata": {},
   "source": [
    "###    -print the first 3 rows"
   ]
  },
  {
   "cell_type": "code",
   "execution_count": null,
   "metadata": {},
   "outputs": [],
   "source": [
    "print(df_googlesheet.head(3))"
   ]
  },
  {
   "cell_type": "markdown",
   "metadata": {},
   "source": [
    "###    -print the number of rows and columns"
   ]
  },
  {
   "cell_type": "code",
   "execution_count": null,
   "metadata": {},
   "outputs": [],
   "source": [
    "df_googlesheet.shape"
   ]
  },
  {
   "cell_type": "markdown",
   "metadata": {},
   "source": [
    "###    -print the first five column names"
   ]
  },
  {
   "cell_type": "code",
   "execution_count": null,
   "metadata": {},
   "outputs": [],
   "source": [
    "df_googlesheet.columns[:5]"
   ]
  },
  {
   "cell_type": "code",
   "execution_count": null,
   "metadata": {},
   "outputs": [],
   "source": [
    "# alternate print to list for ease of access\n",
    "df_googlesheet.columns.to_list()"
   ]
  },
  {
   "cell_type": "markdown",
   "metadata": {},
   "source": [
    "###     -print the data type of each column"
   ]
  },
  {
   "cell_type": "code",
   "execution_count": null,
   "metadata": {},
   "outputs": [],
   "source": [
    "df_googlesheet.dtypes"
   ]
  },
  {
   "cell_type": "markdown",
   "metadata": {},
   "source": [
    "###     -print the summary statistics for each of the numeric variables"
   ]
  },
  {
   "cell_type": "code",
   "execution_count": null,
   "metadata": {},
   "outputs": [],
   "source": [
    "df_googlesheet._get_numeric_data().describe()"
   ]
  },
  {
   "cell_type": "markdown",
   "metadata": {},
   "source": [
    "###   -print the unique values for each of your categorical variables"
   ]
  },
  {
   "cell_type": "code",
   "execution_count": null,
   "metadata": {},
   "outputs": [],
   "source": [
    "#df_googlesheet.select_dtypes(object)\n",
    "\n",
    "df_ = df_googlesheet.select_dtypes(exclude=['int', 'float'])\n",
    "for col in df_.columns:\n",
    "    print(df_[col].unique()) # to print categories name only\n",
    "    print(df_[col].value_counts())"
   ]
  },
  {
   "cell_type": "code",
   "execution_count": null,
   "metadata": {},
   "outputs": [],
   "source": [
    "#alternate from faith\n",
    "for col in df_googlesheet:\n",
    "    if df_googlesheet[col].dtypes == 'object':\n",
    "        print(f'{col} has {df_googlesheet[col].nunique()} unique values.')"
   ]
  },
  {
   "cell_type": "markdown",
   "metadata": {},
   "source": [
    "# Make a new python module, acquire.py to hold the following data aquisition functions:"
   ]
  },
  {
   "cell_type": "markdown",
   "metadata": {},
   "source": [
    "### 1. Make a function named get_titanic_data that returns the titanic data from the codeup data science database as a pandas data frame. Obtain your data from the Codeup Data Science Database. "
   ]
  },
  {
   "cell_type": "code",
   "execution_count": null,
   "metadata": {},
   "outputs": [],
   "source": [
    "import env\n",
    "\n",
    "def get_connection(db, user=env.user, host=env.host, password=env.password):\n",
    "    return f'mysql+pymysql://{user}:{password}@{host}/{db}'\n",
    "\n",
    "df = pd.read_sql('SELECT * FROM passengers', get_connection('titanic_db'))\n",
    "\n",
    "df.head()"
   ]
  },
  {
   "cell_type": "markdown",
   "metadata": {},
   "source": [
    "### 2. Make a function named get_iris_data that returns the data from the iris_db on the codeup data science database as a pandas data frame. The returned data frame should include the actual name of the species in addition to the species_ids. Obtain your data from the Codeup Data Science Database. "
   ]
  },
  {
   "cell_type": "code",
   "execution_count": null,
   "metadata": {},
   "outputs": [],
   "source": [
    "def get_iris_data():\n",
    "    return pd.read_sql('SELECT * FROM measurements AS m JOIN species AS s on m.species_id = s.species_id', get_connection('iris_db'))\n",
    "\n",
    "df = get_iris_data()\n",
    "df.head()"
   ]
  },
  {
   "cell_type": "markdown",
   "metadata": {},
   "source": [
    "### 3. Once you've got your get_titanic_data and get_iris_data functions written, now it's time to add caching to them. To do this, edit the beginning of the function to check for a local filename like titanic.csv or iris.csv. If they exist, use the .csv file. If the file doesn't exist, then produce the SQL and pandas necessary to create a dataframe, then write the dataframe to a .csv file with the appropriate name. "
   ]
  },
  {
   "cell_type": "code",
   "execution_count": null,
   "metadata": {},
   "outputs": [],
   "source": [
    "#Titanic Dataset\n",
    "\n",
    "# def get_titanic_data():\n",
    "#     filename = \"titanic.csv\"\n",
    "\n",
    "#     if os.path.isfile(filename):\n",
    "#         return pd.read_csv(filename)\n",
    "#     else:\n",
    "#         # read the SQL query into a dataframe\n",
    "#         df = pd.read_sql('SELECT * FROM passengers', get_connection('titanic_db'))\n",
    "\n",
    "#         # Write that dataframe to disk for later. Called \"caching\" the data for later.\n",
    "#         df.to_csv(filename, index = False)\n",
    "\n",
    "#         # Return the dataframe to the calling code\n",
    "#     return df\n",
    "\n",
    "#import acquire\n",
    "#acquire.get_titanic_data()\n"
   ]
  },
  {
   "cell_type": "code",
   "execution_count": null,
   "metadata": {},
   "outputs": [],
   "source": [
    "#Iris Dataset\n",
    "\n",
    "# def get_iris_data():\n",
    "#     filename = \"iris.csv\"\n",
    "\n",
    "#     if os.path.isfile(filename):\n",
    "#        return pd.read_csv(filename)\n",
    "#     else:\n",
    "#         #read the SQL query into a dataframe\n",
    "#         df = pd.read_sql('SELECT * FROM measurements AS m JOIN species AS s on m.species_id = s.species_id', get_connection('iris_db'))\n",
    "\n",
    "#         #Write that dataframe to disk for later. Called \"caching\" the data for later.\n",
    "#         df.to_csv(filename, index = False)\n",
    "\n",
    "#         #Return the dataframe to the calling code\n",
    "#     return df\n",
    "\n",
    "#import acquire\n",
    "#acquire.get_iris_data()"
   ]
  },
  {
   "cell_type": "markdown",
   "metadata": {},
   "source": [
    "# Data Preparation"
   ]
  },
  {
   "cell_type": "markdown",
   "metadata": {},
   "source": [
    "#### - Prepare Enviroment"
   ]
  },
  {
   "cell_type": "code",
   "execution_count": 3,
   "metadata": {},
   "outputs": [],
   "source": [
    "import pandas as pd\n",
    "import numpy as np\n",
    "from acquire import *\n",
    "\n",
    "import matplotlib.pyplot as plt\n",
    "%matplotlib inline\n",
    "import seaborn as sns\n",
    "\n",
    "from sklearn.model_selection import train_test_split\n",
    "from sklearn.impute import SimpleImputer\n",
    "from sklearn.preprocessing import LabelEncoder, OneHotEncoder, MinMaxScaler\n",
    "\n",
    "import warnings\n",
    "warnings.filterwarnings(\"ignore\")"
   ]
  },
  {
   "cell_type": "markdown",
   "metadata": {},
   "source": [
    "\n",
    "\n",
    "- Iris Data\n",
    "\n",
    "    - Use the function defined in acquire.py to load the iris data.\n",
    "    - Drop the species_id and measurement_id columns.\n",
    "    - Rename the species_name column to just species.\n",
    "    - Encode the species name using a sklearn label encoder. Research the inverse_transform method of the label encoder. How might this be useful?\n",
    "    - Create a function named prep_iris that accepts the untransformed iris data, and returns the data with the transformations above applied.\n"
   ]
  },
  {
   "cell_type": "code",
   "execution_count": null,
   "metadata": {},
   "outputs": [],
   "source": [
    " \n",
    "'''\n",
    "This function reads in iris data from Codeup database if cached == False\n",
    "or if cached == True reads in iris df from a csv file, returns df\n",
    "'''\n",
    "# I ran this code first, to import data and save it as a dataframe\n",
    "#iris = get_iris_data(cached=True)\n",
    "\n",
    "iris = get_iris_data(cached=True)\n",
    "iris.head()"
   ]
  },
  {
   "cell_type": "code",
   "execution_count": null,
   "metadata": {},
   "outputs": [],
   "source": [
    "# Drop the species_id and measurement_id columns.\n",
    "\n",
    "cols_to_drop = ['species_id']\n",
    "iris = iris.drop(columns=cols_to_drop)\n",
    "iris.head()"
   ]
  },
  {
   "cell_type": "code",
   "execution_count": null,
   "metadata": {},
   "outputs": [],
   "source": [
    "# Rename the species_name column to just species.\n",
    "\n",
    "iris.rename(columns = {'species_name':'species'}, inplace = True)\n",
    "iris.head()"
   ]
  },
  {
   "cell_type": "code",
   "execution_count": null,
   "metadata": {},
   "outputs": [],
   "source": [
    "# Train/Validate/Test Split\n",
    "\n",
    "train_validate, test = train_test_split(iris, test_size=.2, \n",
    "                                        random_state=123, \n",
    "                                        stratify=iris.species)\n",
    "\n",
    "train_validate.shape, test.shape\n"
   ]
  },
  {
   "cell_type": "code",
   "execution_count": null,
   "metadata": {},
   "outputs": [],
   "source": [
    "train, validate = train_test_split(train_validate, test_size=.3, \n",
    "                                   random_state=123, \n",
    "                                   stratify=train_validate.species)\n",
    "train.shape, validate.shape\n"
   ]
  },
  {
   "cell_type": "code",
   "execution_count": null,
   "metadata": {},
   "outputs": [],
   "source": [
    "# Encode the species name using a sklearn label encoder. \n",
    "# Research the inverse_transform method of the label encoder. How might this be useful?\n",
    "\n",
    "def label_encode(train, test):\n",
    "    le = LabelEncoder()\n",
    "    train['species'] = le.fit_transform(train.species)\n",
    "    test['species'] = le.transform(test.species)\n",
    "    return le, train, test"
   ]
  },
  {
   "cell_type": "code",
   "execution_count": null,
   "metadata": {},
   "outputs": [],
   "source": [
    "label_encode(train, test)"
   ]
  },
  {
   "cell_type": "code",
   "execution_count": null,
   "metadata": {},
   "outputs": [],
   "source": [
    "# Research the inverse_transform method of the label encoder. How might this be useful?\n",
    "\n",
    "'''\n",
    "Used to transform the data back in to categories after modeling for analysis\n",
    "'''\n"
   ]
  },
  {
   "cell_type": "code",
   "execution_count": null,
   "metadata": {},
   "outputs": [],
   "source": [
    "#Create a function named prep_iris that accepts the untransformed iris data, and returns the data with the transformations above applied.\n",
    "\n",
    "def prep_iris(df):\n",
    "    le = LabelEncoder()\n",
    "    df = df.drop(columns='species_id')\n",
    "    df = df.rename(columns={'species_name': 'species'})\n",
    "    train, test = train_test_split(df, train_size=.75, stratify=df.species, random_state=123)\n",
    "    train, test, le = label_encode(train, test)\n",
    "    return train, test, le\n"
   ]
  },
  {
   "cell_type": "code",
   "execution_count": null,
   "metadata": {},
   "outputs": [],
   "source": [
    "prep_iris(iris)"
   ]
  },
  {
   "cell_type": "markdown",
   "metadata": {},
   "source": [
    "# Titanic Data"
   ]
  },
  {
   "cell_type": "markdown",
   "metadata": {},
   "source": [
    "####     Use the function you defined in acquire.py to load the titanic data set."
   ]
  },
  {
   "cell_type": "code",
   "execution_count": 26,
   "metadata": {},
   "outputs": [
    {
     "data": {
      "text/html": [
       "<div>\n",
       "<style scoped>\n",
       "    .dataframe tbody tr th:only-of-type {\n",
       "        vertical-align: middle;\n",
       "    }\n",
       "\n",
       "    .dataframe tbody tr th {\n",
       "        vertical-align: top;\n",
       "    }\n",
       "\n",
       "    .dataframe thead th {\n",
       "        text-align: right;\n",
       "    }\n",
       "</style>\n",
       "<table border=\"1\" class=\"dataframe\">\n",
       "  <thead>\n",
       "    <tr style=\"text-align: right;\">\n",
       "      <th></th>\n",
       "      <th>passenger_id</th>\n",
       "      <th>survived</th>\n",
       "      <th>pclass</th>\n",
       "      <th>sex</th>\n",
       "      <th>age</th>\n",
       "      <th>sibsp</th>\n",
       "      <th>parch</th>\n",
       "      <th>fare</th>\n",
       "      <th>embarked</th>\n",
       "      <th>class</th>\n",
       "      <th>deck</th>\n",
       "      <th>embark_town</th>\n",
       "      <th>alone</th>\n",
       "    </tr>\n",
       "  </thead>\n",
       "  <tbody>\n",
       "    <tr>\n",
       "      <th>0</th>\n",
       "      <td>0</td>\n",
       "      <td>0</td>\n",
       "      <td>3</td>\n",
       "      <td>male</td>\n",
       "      <td>22.0</td>\n",
       "      <td>1</td>\n",
       "      <td>0</td>\n",
       "      <td>7.2500</td>\n",
       "      <td>S</td>\n",
       "      <td>Third</td>\n",
       "      <td>None</td>\n",
       "      <td>Southampton</td>\n",
       "      <td>0</td>\n",
       "    </tr>\n",
       "    <tr>\n",
       "      <th>1</th>\n",
       "      <td>1</td>\n",
       "      <td>1</td>\n",
       "      <td>1</td>\n",
       "      <td>female</td>\n",
       "      <td>38.0</td>\n",
       "      <td>1</td>\n",
       "      <td>0</td>\n",
       "      <td>71.2833</td>\n",
       "      <td>C</td>\n",
       "      <td>First</td>\n",
       "      <td>C</td>\n",
       "      <td>Cherbourg</td>\n",
       "      <td>0</td>\n",
       "    </tr>\n",
       "    <tr>\n",
       "      <th>2</th>\n",
       "      <td>2</td>\n",
       "      <td>1</td>\n",
       "      <td>3</td>\n",
       "      <td>female</td>\n",
       "      <td>26.0</td>\n",
       "      <td>0</td>\n",
       "      <td>0</td>\n",
       "      <td>7.9250</td>\n",
       "      <td>S</td>\n",
       "      <td>Third</td>\n",
       "      <td>None</td>\n",
       "      <td>Southampton</td>\n",
       "      <td>1</td>\n",
       "    </tr>\n",
       "    <tr>\n",
       "      <th>3</th>\n",
       "      <td>3</td>\n",
       "      <td>1</td>\n",
       "      <td>1</td>\n",
       "      <td>female</td>\n",
       "      <td>35.0</td>\n",
       "      <td>1</td>\n",
       "      <td>0</td>\n",
       "      <td>53.1000</td>\n",
       "      <td>S</td>\n",
       "      <td>First</td>\n",
       "      <td>C</td>\n",
       "      <td>Southampton</td>\n",
       "      <td>0</td>\n",
       "    </tr>\n",
       "    <tr>\n",
       "      <th>4</th>\n",
       "      <td>4</td>\n",
       "      <td>0</td>\n",
       "      <td>3</td>\n",
       "      <td>male</td>\n",
       "      <td>35.0</td>\n",
       "      <td>0</td>\n",
       "      <td>0</td>\n",
       "      <td>8.0500</td>\n",
       "      <td>S</td>\n",
       "      <td>Third</td>\n",
       "      <td>None</td>\n",
       "      <td>Southampton</td>\n",
       "      <td>1</td>\n",
       "    </tr>\n",
       "  </tbody>\n",
       "</table>\n",
       "</div>"
      ],
      "text/plain": [
       "   passenger_id  survived  pclass     sex   age  sibsp  parch     fare  \\\n",
       "0             0         0       3    male  22.0      1      0   7.2500   \n",
       "1             1         1       1  female  38.0      1      0  71.2833   \n",
       "2             2         1       3  female  26.0      0      0   7.9250   \n",
       "3             3         1       1  female  35.0      1      0  53.1000   \n",
       "4             4         0       3    male  35.0      0      0   8.0500   \n",
       "\n",
       "  embarked  class  deck  embark_town  alone  \n",
       "0        S  Third  None  Southampton      0  \n",
       "1        C  First     C    Cherbourg      0  \n",
       "2        S  Third  None  Southampton      1  \n",
       "3        S  First     C  Southampton      0  \n",
       "4        S  Third  None  Southampton      1  "
      ]
     },
     "execution_count": 26,
     "metadata": {},
     "output_type": "execute_result"
    }
   ],
   "source": [
    "'''\n",
    "This function reads in titanic data from Codeup database if cached == False\n",
    "or if cached == True reads in iris df from a csv file, returns df\n",
    "'''\n",
    "# I ran this code first, to import data and save it as a dataframe\n",
    "#iris = get_iris_data(cached=True)\n",
    "\n",
    "titanic = get_titanic_data(cached=True)\n",
    "titanic.head()"
   ]
  },
  {
   "cell_type": "markdown",
   "metadata": {},
   "source": [
    "####     Handle the missing values in the embark_town and embarked columns."
   ]
  },
  {
   "cell_type": "code",
   "execution_count": 27,
   "metadata": {},
   "outputs": [
    {
     "data": {
      "text/html": [
       "<div>\n",
       "<style scoped>\n",
       "    .dataframe tbody tr th:only-of-type {\n",
       "        vertical-align: middle;\n",
       "    }\n",
       "\n",
       "    .dataframe tbody tr th {\n",
       "        vertical-align: top;\n",
       "    }\n",
       "\n",
       "    .dataframe thead th {\n",
       "        text-align: right;\n",
       "    }\n",
       "</style>\n",
       "<table border=\"1\" class=\"dataframe\">\n",
       "  <thead>\n",
       "    <tr style=\"text-align: right;\">\n",
       "      <th></th>\n",
       "      <th>survived</th>\n",
       "      <th>pclass</th>\n",
       "      <th>sex</th>\n",
       "      <th>age</th>\n",
       "      <th>sibsp</th>\n",
       "      <th>parch</th>\n",
       "      <th>fare</th>\n",
       "      <th>deck</th>\n",
       "      <th>embark_town</th>\n",
       "      <th>alone</th>\n",
       "    </tr>\n",
       "  </thead>\n",
       "  <tbody>\n",
       "    <tr>\n",
       "      <th>0</th>\n",
       "      <td>0</td>\n",
       "      <td>3</td>\n",
       "      <td>male</td>\n",
       "      <td>22.0</td>\n",
       "      <td>1</td>\n",
       "      <td>0</td>\n",
       "      <td>7.2500</td>\n",
       "      <td>None</td>\n",
       "      <td>Southampton</td>\n",
       "      <td>0</td>\n",
       "    </tr>\n",
       "    <tr>\n",
       "      <th>1</th>\n",
       "      <td>1</td>\n",
       "      <td>1</td>\n",
       "      <td>female</td>\n",
       "      <td>38.0</td>\n",
       "      <td>1</td>\n",
       "      <td>0</td>\n",
       "      <td>71.2833</td>\n",
       "      <td>C</td>\n",
       "      <td>Cherbourg</td>\n",
       "      <td>0</td>\n",
       "    </tr>\n",
       "    <tr>\n",
       "      <th>2</th>\n",
       "      <td>1</td>\n",
       "      <td>3</td>\n",
       "      <td>female</td>\n",
       "      <td>26.0</td>\n",
       "      <td>0</td>\n",
       "      <td>0</td>\n",
       "      <td>7.9250</td>\n",
       "      <td>None</td>\n",
       "      <td>Southampton</td>\n",
       "      <td>1</td>\n",
       "    </tr>\n",
       "    <tr>\n",
       "      <th>3</th>\n",
       "      <td>1</td>\n",
       "      <td>1</td>\n",
       "      <td>female</td>\n",
       "      <td>35.0</td>\n",
       "      <td>1</td>\n",
       "      <td>0</td>\n",
       "      <td>53.1000</td>\n",
       "      <td>C</td>\n",
       "      <td>Southampton</td>\n",
       "      <td>0</td>\n",
       "    </tr>\n",
       "    <tr>\n",
       "      <th>4</th>\n",
       "      <td>0</td>\n",
       "      <td>3</td>\n",
       "      <td>male</td>\n",
       "      <td>35.0</td>\n",
       "      <td>0</td>\n",
       "      <td>0</td>\n",
       "      <td>8.0500</td>\n",
       "      <td>None</td>\n",
       "      <td>Southampton</td>\n",
       "      <td>1</td>\n",
       "    </tr>\n",
       "  </tbody>\n",
       "</table>\n",
       "</div>"
      ],
      "text/plain": [
       "   survived  pclass     sex   age  sibsp  parch     fare  deck  embark_town  \\\n",
       "0         0       3    male  22.0      1      0   7.2500  None  Southampton   \n",
       "1         1       1  female  38.0      1      0  71.2833     C    Cherbourg   \n",
       "2         1       3  female  26.0      0      0   7.9250  None  Southampton   \n",
       "3         1       1  female  35.0      1      0  53.1000     C  Southampton   \n",
       "4         0       3    male  35.0      0      0   8.0500  None  Southampton   \n",
       "\n",
       "   alone  \n",
       "0      0  \n",
       "1      0  \n",
       "2      1  \n",
       "3      0  \n",
       "4      1  "
      ]
     },
     "execution_count": 27,
     "metadata": {},
     "output_type": "execute_result"
    }
   ],
   "source": [
    "# Dropped these colums because they are repeats, or do not provide extra insight in to who survived\n",
    "cols_to_drop = ['embarked', 'class', 'passenger_id']\n",
    "titanic = titanic.drop(columns=cols_to_drop)\n",
    "titanic.head()"
   ]
  },
  {
   "cell_type": "code",
   "execution_count": 28,
   "metadata": {},
   "outputs": [],
   "source": [
    "# drop missing observations of embark town\n",
    "titanic = titanic[~titanic.embark_town.isnull()]"
   ]
  },
  {
   "cell_type": "markdown",
   "metadata": {},
   "source": [
    "####     Remove the deck column."
   ]
  },
  {
   "cell_type": "code",
   "execution_count": 29,
   "metadata": {},
   "outputs": [
    {
     "data": {
      "text/html": [
       "<div>\n",
       "<style scoped>\n",
       "    .dataframe tbody tr th:only-of-type {\n",
       "        vertical-align: middle;\n",
       "    }\n",
       "\n",
       "    .dataframe tbody tr th {\n",
       "        vertical-align: top;\n",
       "    }\n",
       "\n",
       "    .dataframe thead th {\n",
       "        text-align: right;\n",
       "    }\n",
       "</style>\n",
       "<table border=\"1\" class=\"dataframe\">\n",
       "  <thead>\n",
       "    <tr style=\"text-align: right;\">\n",
       "      <th></th>\n",
       "      <th>survived</th>\n",
       "      <th>pclass</th>\n",
       "      <th>sex</th>\n",
       "      <th>age</th>\n",
       "      <th>sibsp</th>\n",
       "      <th>parch</th>\n",
       "      <th>fare</th>\n",
       "      <th>embark_town</th>\n",
       "      <th>alone</th>\n",
       "    </tr>\n",
       "  </thead>\n",
       "  <tbody>\n",
       "    <tr>\n",
       "      <th>0</th>\n",
       "      <td>0</td>\n",
       "      <td>3</td>\n",
       "      <td>male</td>\n",
       "      <td>22.0</td>\n",
       "      <td>1</td>\n",
       "      <td>0</td>\n",
       "      <td>7.2500</td>\n",
       "      <td>Southampton</td>\n",
       "      <td>0</td>\n",
       "    </tr>\n",
       "    <tr>\n",
       "      <th>1</th>\n",
       "      <td>1</td>\n",
       "      <td>1</td>\n",
       "      <td>female</td>\n",
       "      <td>38.0</td>\n",
       "      <td>1</td>\n",
       "      <td>0</td>\n",
       "      <td>71.2833</td>\n",
       "      <td>Cherbourg</td>\n",
       "      <td>0</td>\n",
       "    </tr>\n",
       "    <tr>\n",
       "      <th>2</th>\n",
       "      <td>1</td>\n",
       "      <td>3</td>\n",
       "      <td>female</td>\n",
       "      <td>26.0</td>\n",
       "      <td>0</td>\n",
       "      <td>0</td>\n",
       "      <td>7.9250</td>\n",
       "      <td>Southampton</td>\n",
       "      <td>1</td>\n",
       "    </tr>\n",
       "    <tr>\n",
       "      <th>3</th>\n",
       "      <td>1</td>\n",
       "      <td>1</td>\n",
       "      <td>female</td>\n",
       "      <td>35.0</td>\n",
       "      <td>1</td>\n",
       "      <td>0</td>\n",
       "      <td>53.1000</td>\n",
       "      <td>Southampton</td>\n",
       "      <td>0</td>\n",
       "    </tr>\n",
       "    <tr>\n",
       "      <th>4</th>\n",
       "      <td>0</td>\n",
       "      <td>3</td>\n",
       "      <td>male</td>\n",
       "      <td>35.0</td>\n",
       "      <td>0</td>\n",
       "      <td>0</td>\n",
       "      <td>8.0500</td>\n",
       "      <td>Southampton</td>\n",
       "      <td>1</td>\n",
       "    </tr>\n",
       "  </tbody>\n",
       "</table>\n",
       "</div>"
      ],
      "text/plain": [
       "   survived  pclass     sex   age  sibsp  parch     fare  embark_town  alone\n",
       "0         0       3    male  22.0      1      0   7.2500  Southampton      0\n",
       "1         1       1  female  38.0      1      0  71.2833    Cherbourg      0\n",
       "2         1       3  female  26.0      0      0   7.9250  Southampton      1\n",
       "3         1       1  female  35.0      1      0  53.1000  Southampton      0\n",
       "4         0       3    male  35.0      0      0   8.0500  Southampton      1"
      ]
     },
     "execution_count": 29,
     "metadata": {},
     "output_type": "execute_result"
    }
   ],
   "source": [
    "cols_to_drop = ['deck']\n",
    "titanic = titanic.drop(columns=cols_to_drop)\n",
    "titanic.head()"
   ]
  },
  {
   "cell_type": "markdown",
   "metadata": {},
   "source": [
    "####    Use a label encoder to transform the embarked column."
   ]
  },
  {
   "cell_type": "code",
   "execution_count": 30,
   "metadata": {},
   "outputs": [],
   "source": [
    "#first we have to train/validate/test split data\n",
    "\n",
    "train_validate, test = train_test_split(titanic, test_size=.2, \n",
    "                                        random_state=123, \n",
    "                                        stratify=titanic.survived)\n",
    "\n",
    "train, validate = train_test_split(train_validate, test_size=.3, \n",
    "                                   random_state=123, \n",
    "                                   stratify=train_validate.survived)"
   ]
  },
  {
   "cell_type": "code",
   "execution_count": 31,
   "metadata": {},
   "outputs": [
    {
     "data": {
      "text/plain": [
       "survived        0\n",
       "pclass          0\n",
       "sex             0\n",
       "age            97\n",
       "sibsp           0\n",
       "parch           0\n",
       "fare            0\n",
       "embark_town     0\n",
       "alone           0\n",
       "dtype: int64"
      ]
     },
     "execution_count": 31,
     "metadata": {},
     "output_type": "execute_result"
    }
   ],
   "source": [
    "train.isnull().sum()"
   ]
  },
  {
   "cell_type": "code",
   "execution_count": 32,
   "metadata": {},
   "outputs": [
    {
     "data": {
      "text/plain": [
       "survived        0\n",
       "pclass          0\n",
       "sex             0\n",
       "age            44\n",
       "sibsp           0\n",
       "parch           0\n",
       "fare            0\n",
       "embark_town     0\n",
       "alone           0\n",
       "dtype: int64"
      ]
     },
     "execution_count": 32,
     "metadata": {},
     "output_type": "execute_result"
    }
   ],
   "source": [
    "test.isnull().sum()"
   ]
  },
  {
   "cell_type": "code",
   "execution_count": 33,
   "metadata": {},
   "outputs": [],
   "source": [
    "def label_encode(train, test):\n",
    "    le = LabelEncoder()\n",
    "    train['embark_town'] = le.fit_transform(train.embark_town)\n",
    "    test['embark_town'] = le.transform(test.embark_town)\n",
    "    return le, train, test"
   ]
  },
  {
   "cell_type": "code",
   "execution_count": 34,
   "metadata": {},
   "outputs": [
    {
     "data": {
      "text/plain": [
       "(LabelEncoder(),\n",
       "      survived  pclass     sex   age  sibsp  parch      fare  embark_town  \\\n",
       " 583         0       1    male  36.0      0      0   40.1250            0   \n",
       " 337         1       1  female  41.0      0      0  134.5000            0   \n",
       " 50          0       3    male   7.0      4      1   39.6875            2   \n",
       " 218         1       1  female  32.0      0      0   76.2917            0   \n",
       " 31          1       1  female   NaN      1      0  146.5208            0   \n",
       " ..        ...     ...     ...   ...    ...    ...       ...          ...   \n",
       " 313         0       3    male  28.0      0      0    7.8958            2   \n",
       " 636         0       3    male  32.0      0      0    7.9250            2   \n",
       " 222         0       3    male  51.0      0      0    8.0500            2   \n",
       " 485         0       3  female   NaN      3      1   25.4667            2   \n",
       " 553         1       3    male  22.0      0      0    7.2250            0   \n",
       " \n",
       "      alone  \n",
       " 583      1  \n",
       " 337      1  \n",
       " 50       0  \n",
       " 218      1  \n",
       " 31       0  \n",
       " ..     ...  \n",
       " 313      1  \n",
       " 636      1  \n",
       " 222      1  \n",
       " 485      0  \n",
       " 553      1  \n",
       " \n",
       " [497 rows x 9 columns],\n",
       "      survived  pclass     sex   age  sibsp  parch      fare  embark_town  \\\n",
       " 561         0       3    male  40.0      0      0    7.8958            2   \n",
       " 328         1       3  female  31.0      1      1   20.5250            2   \n",
       " 643         1       3    male   NaN      0      0   56.4958            2   \n",
       " 498         0       1  female  25.0      1      2  151.5500            2   \n",
       " 875         1       3  female  15.0      0      0    7.2250            0   \n",
       " ..        ...     ...     ...   ...    ...    ...       ...          ...   \n",
       " 339         0       1    male  45.0      0      0   35.5000            2   \n",
       " 841         0       2    male  16.0      0      0   10.5000            2   \n",
       " 442         0       3    male  25.0      1      0    7.7750            2   \n",
       " 815         0       1    male   NaN      0      0    0.0000            2   \n",
       " 809         1       1  female  33.0      1      0   53.1000            2   \n",
       " \n",
       "      alone  \n",
       " 561      1  \n",
       " 328      0  \n",
       " 643      1  \n",
       " 498      0  \n",
       " 875      1  \n",
       " ..     ...  \n",
       " 339      1  \n",
       " 841      1  \n",
       " 442      0  \n",
       " 815      1  \n",
       " 809      0  \n",
       " \n",
       " [178 rows x 9 columns])"
      ]
     },
     "execution_count": 34,
     "metadata": {},
     "output_type": "execute_result"
    }
   ],
   "source": [
    "label_encode(train, test)"
   ]
  },
  {
   "cell_type": "markdown",
   "metadata": {},
   "source": [
    "####     Scale the age and fare columns using a min max scaler. Why might this be beneficial? When might you not want to do this?"
   ]
  },
  {
   "cell_type": "code",
   "execution_count": 39,
   "metadata": {},
   "outputs": [],
   "source": [
    "def scale_columns(train, test):\n",
    "    scaler = MinMaxScaler()\n",
    "    train[['age','fare']] = scaler.fit_transform(train[['age','fare']])\n",
    "    test[['age','fare']] = scaler.transform(test[['age','fare']])\n",
    "    return scaler, train, test"
   ]
  },
  {
   "cell_type": "code",
   "execution_count": 40,
   "metadata": {},
   "outputs": [
    {
     "data": {
      "text/plain": [
       "(MinMaxScaler(),\n",
       "      survived  pclass     sex       age  sibsp  parch      fare  embark_town  \\\n",
       " 583         0       1    male  0.445355      0      0  0.078319            0   \n",
       " 337         1       1  female  0.508383      0      0  0.262527            0   \n",
       " 50          0       3    male  0.079793      4      1  0.077465            2   \n",
       " 218         1       1  female  0.394933      0      0  0.148911            0   \n",
       " 31          1       1  female  0.368674      1      0  0.285990            0   \n",
       " ..        ...     ...     ...       ...    ...    ...       ...          ...   \n",
       " 313         0       3    male  0.344510      0      0  0.015412            2   \n",
       " 636         0       3    male  0.394933      0      0  0.015469            2   \n",
       " 222         0       3    male  0.634438      0      0  0.015713            2   \n",
       " 485         0       3  female  0.368674      3      1  0.049708            2   \n",
       " 553         1       3    male  0.268877      0      0  0.014102            0   \n",
       " \n",
       "      alone  \n",
       " 583      1  \n",
       " 337      1  \n",
       " 50       0  \n",
       " 218      1  \n",
       " 31       0  \n",
       " ..     ...  \n",
       " 313      1  \n",
       " 636      1  \n",
       " 222      1  \n",
       " 485      0  \n",
       " 553      1  \n",
       " \n",
       " [497 rows x 9 columns],\n",
       "      survived  pclass     sex       age  sibsp  parch      fare  embark_town  \\\n",
       " 561         0       3    male  0.495777      0      0  0.015412            2   \n",
       " 328         1       3  female  0.382327      1      1  0.040062            2   \n",
       " 643         1       3    male  0.368674      0      0  0.110272            2   \n",
       " 498         0       1  female  0.306694      1      2  0.295806            2   \n",
       " 875         1       3  female  0.180638      0      0  0.014102            0   \n",
       " ..        ...     ...     ...       ...    ...    ...       ...          ...   \n",
       " 339         0       1    male  0.558805      0      0  0.069291            2   \n",
       " 841         0       2    male  0.193243      0      0  0.020495            2   \n",
       " 442         0       3    male  0.306694      1      0  0.015176            2   \n",
       " 815         0       1    male  0.368674      0      0  0.000000            2   \n",
       " 809         1       1  female  0.407538      1      0  0.103644            2   \n",
       " \n",
       "      alone  \n",
       " 561      1  \n",
       " 328      0  \n",
       " 643      1  \n",
       " 498      0  \n",
       " 875      1  \n",
       " ..     ...  \n",
       " 339      1  \n",
       " 841      1  \n",
       " 442      0  \n",
       " 815      1  \n",
       " 809      0  \n",
       " \n",
       " [178 rows x 9 columns])"
      ]
     },
     "execution_count": 40,
     "metadata": {},
     "output_type": "execute_result"
    }
   ],
   "source": [
    "scale_columns(train, test)"
   ]
  },
  {
   "cell_type": "markdown",
   "metadata": {},
   "source": [
    "####     Fill the missing values in age. The way you fill these values is up to you. Consider the tradeoffs of different methods."
   ]
  },
  {
   "cell_type": "code",
   "execution_count": 35,
   "metadata": {},
   "outputs": [],
   "source": [
    "def impute_age(train, test):\n",
    "    avg_age = train.age.mean()\n",
    "    train.age = train.age.fillna(avg_age)\n",
    "    test.age = test.age.fillna(avg_age)\n",
    "    return train, test"
   ]
  },
  {
   "cell_type": "code",
   "execution_count": 36,
   "metadata": {},
   "outputs": [
    {
     "data": {
      "text/plain": [
       "(     survived  pclass     sex        age  sibsp  parch      fare  embark_town  \\\n",
       " 583         0       1    male  36.000000      0      0   40.1250            0   \n",
       " 337         1       1  female  41.000000      0      0  134.5000            0   \n",
       " 50          0       3    male   7.000000      4      1   39.6875            2   \n",
       " 218         1       1  female  32.000000      0      0   76.2917            0   \n",
       " 31          1       1  female  29.916875      1      0  146.5208            0   \n",
       " ..        ...     ...     ...        ...    ...    ...       ...          ...   \n",
       " 313         0       3    male  28.000000      0      0    7.8958            2   \n",
       " 636         0       3    male  32.000000      0      0    7.9250            2   \n",
       " 222         0       3    male  51.000000      0      0    8.0500            2   \n",
       " 485         0       3  female  29.916875      3      1   25.4667            2   \n",
       " 553         1       3    male  22.000000      0      0    7.2250            0   \n",
       " \n",
       "      alone  \n",
       " 583      1  \n",
       " 337      1  \n",
       " 50       0  \n",
       " 218      1  \n",
       " 31       0  \n",
       " ..     ...  \n",
       " 313      1  \n",
       " 636      1  \n",
       " 222      1  \n",
       " 485      0  \n",
       " 553      1  \n",
       " \n",
       " [497 rows x 9 columns],\n",
       "      survived  pclass     sex        age  sibsp  parch      fare  embark_town  \\\n",
       " 561         0       3    male  40.000000      0      0    7.8958            2   \n",
       " 328         1       3  female  31.000000      1      1   20.5250            2   \n",
       " 643         1       3    male  29.916875      0      0   56.4958            2   \n",
       " 498         0       1  female  25.000000      1      2  151.5500            2   \n",
       " 875         1       3  female  15.000000      0      0    7.2250            0   \n",
       " ..        ...     ...     ...        ...    ...    ...       ...          ...   \n",
       " 339         0       1    male  45.000000      0      0   35.5000            2   \n",
       " 841         0       2    male  16.000000      0      0   10.5000            2   \n",
       " 442         0       3    male  25.000000      1      0    7.7750            2   \n",
       " 815         0       1    male  29.916875      0      0    0.0000            2   \n",
       " 809         1       1  female  33.000000      1      0   53.1000            2   \n",
       " \n",
       "      alone  \n",
       " 561      1  \n",
       " 328      0  \n",
       " 643      1  \n",
       " 498      0  \n",
       " 875      1  \n",
       " ..     ...  \n",
       " 339      1  \n",
       " 841      1  \n",
       " 442      0  \n",
       " 815      1  \n",
       " 809      0  \n",
       " \n",
       " [178 rows x 9 columns])"
      ]
     },
     "execution_count": 36,
     "metadata": {},
     "output_type": "execute_result"
    }
   ],
   "source": [
    "impute_age(train, test)"
   ]
  },
  {
   "cell_type": "code",
   "execution_count": 37,
   "metadata": {},
   "outputs": [
    {
     "data": {
      "text/plain": [
       "survived       0\n",
       "pclass         0\n",
       "sex            0\n",
       "age            0\n",
       "sibsp          0\n",
       "parch          0\n",
       "fare           0\n",
       "embark_town    0\n",
       "alone          0\n",
       "dtype: int64"
      ]
     },
     "execution_count": 37,
     "metadata": {},
     "output_type": "execute_result"
    }
   ],
   "source": [
    "train.isnull().sum()"
   ]
  },
  {
   "cell_type": "code",
   "execution_count": 38,
   "metadata": {},
   "outputs": [
    {
     "data": {
      "text/plain": [
       "survived       0\n",
       "pclass         0\n",
       "sex            0\n",
       "age            0\n",
       "sibsp          0\n",
       "parch          0\n",
       "fare           0\n",
       "embark_town    0\n",
       "alone          0\n",
       "dtype: int64"
      ]
     },
     "execution_count": 38,
     "metadata": {},
     "output_type": "execute_result"
    }
   ],
   "source": [
    "test.isnull().sum()"
   ]
  },
  {
   "cell_type": "markdown",
   "metadata": {},
   "source": [
    "####     Create a function named prep_titanic that accepts the untransformed titanic data, and returns the data with the   transformations above applied."
   ]
  },
  {
   "cell_type": "code",
   "execution_count": 44,
   "metadata": {},
   "outputs": [
    {
     "data": {
      "text/html": [
       "<div>\n",
       "<style scoped>\n",
       "    .dataframe tbody tr th:only-of-type {\n",
       "        vertical-align: middle;\n",
       "    }\n",
       "\n",
       "    .dataframe tbody tr th {\n",
       "        vertical-align: top;\n",
       "    }\n",
       "\n",
       "    .dataframe thead th {\n",
       "        text-align: right;\n",
       "    }\n",
       "</style>\n",
       "<table border=\"1\" class=\"dataframe\">\n",
       "  <thead>\n",
       "    <tr style=\"text-align: right;\">\n",
       "      <th></th>\n",
       "      <th>passenger_id</th>\n",
       "      <th>survived</th>\n",
       "      <th>pclass</th>\n",
       "      <th>sex</th>\n",
       "      <th>age</th>\n",
       "      <th>sibsp</th>\n",
       "      <th>parch</th>\n",
       "      <th>fare</th>\n",
       "      <th>embarked</th>\n",
       "      <th>class</th>\n",
       "      <th>deck</th>\n",
       "      <th>embark_town</th>\n",
       "      <th>alone</th>\n",
       "    </tr>\n",
       "  </thead>\n",
       "  <tbody>\n",
       "    <tr>\n",
       "      <th>0</th>\n",
       "      <td>0</td>\n",
       "      <td>0</td>\n",
       "      <td>3</td>\n",
       "      <td>male</td>\n",
       "      <td>22.0</td>\n",
       "      <td>1</td>\n",
       "      <td>0</td>\n",
       "      <td>7.2500</td>\n",
       "      <td>S</td>\n",
       "      <td>Third</td>\n",
       "      <td>None</td>\n",
       "      <td>Southampton</td>\n",
       "      <td>0</td>\n",
       "    </tr>\n",
       "    <tr>\n",
       "      <th>1</th>\n",
       "      <td>1</td>\n",
       "      <td>1</td>\n",
       "      <td>1</td>\n",
       "      <td>female</td>\n",
       "      <td>38.0</td>\n",
       "      <td>1</td>\n",
       "      <td>0</td>\n",
       "      <td>71.2833</td>\n",
       "      <td>C</td>\n",
       "      <td>First</td>\n",
       "      <td>C</td>\n",
       "      <td>Cherbourg</td>\n",
       "      <td>0</td>\n",
       "    </tr>\n",
       "    <tr>\n",
       "      <th>2</th>\n",
       "      <td>2</td>\n",
       "      <td>1</td>\n",
       "      <td>3</td>\n",
       "      <td>female</td>\n",
       "      <td>26.0</td>\n",
       "      <td>0</td>\n",
       "      <td>0</td>\n",
       "      <td>7.9250</td>\n",
       "      <td>S</td>\n",
       "      <td>Third</td>\n",
       "      <td>None</td>\n",
       "      <td>Southampton</td>\n",
       "      <td>1</td>\n",
       "    </tr>\n",
       "    <tr>\n",
       "      <th>3</th>\n",
       "      <td>3</td>\n",
       "      <td>1</td>\n",
       "      <td>1</td>\n",
       "      <td>female</td>\n",
       "      <td>35.0</td>\n",
       "      <td>1</td>\n",
       "      <td>0</td>\n",
       "      <td>53.1000</td>\n",
       "      <td>S</td>\n",
       "      <td>First</td>\n",
       "      <td>C</td>\n",
       "      <td>Southampton</td>\n",
       "      <td>0</td>\n",
       "    </tr>\n",
       "    <tr>\n",
       "      <th>4</th>\n",
       "      <td>4</td>\n",
       "      <td>0</td>\n",
       "      <td>3</td>\n",
       "      <td>male</td>\n",
       "      <td>35.0</td>\n",
       "      <td>0</td>\n",
       "      <td>0</td>\n",
       "      <td>8.0500</td>\n",
       "      <td>S</td>\n",
       "      <td>Third</td>\n",
       "      <td>None</td>\n",
       "      <td>Southampton</td>\n",
       "      <td>1</td>\n",
       "    </tr>\n",
       "  </tbody>\n",
       "</table>\n",
       "</div>"
      ],
      "text/plain": [
       "   passenger_id  survived  pclass     sex   age  sibsp  parch     fare  \\\n",
       "0             0         0       3    male  22.0      1      0   7.2500   \n",
       "1             1         1       1  female  38.0      1      0  71.2833   \n",
       "2             2         1       3  female  26.0      0      0   7.9250   \n",
       "3             3         1       1  female  35.0      1      0  53.1000   \n",
       "4             4         0       3    male  35.0      0      0   8.0500   \n",
       "\n",
       "  embarked  class  deck  embark_town  alone  \n",
       "0        S  Third  None  Southampton      0  \n",
       "1        C  First     C    Cherbourg      0  \n",
       "2        S  Third  None  Southampton      1  \n",
       "3        S  First     C  Southampton      0  \n",
       "4        S  Third  None  Southampton      1  "
      ]
     },
     "execution_count": 44,
     "metadata": {},
     "output_type": "execute_result"
    }
   ],
   "source": [
    "titanic = get_titanic_data(cached=True)\n",
    "titanic.head()"
   ]
  },
  {
   "cell_type": "code",
   "execution_count": 45,
   "metadata": {},
   "outputs": [],
   "source": [
    "def drop_columns(df):\n",
    "    df.drop(columns=['deck'], inplace=True)\n",
    "    return df\n",
    "\n",
    "def impute_embark_town(train, test):\n",
    "    train['embark_town'] = train['embark_town'].fillna('Southampton')\n",
    "    test['embark_town'] = test['embark_town'].fillna('Southampton')\n",
    "    return train, test\n",
    "\n",
    "def impute_embarked(train, test):\n",
    "    train['embarked'] = train['embarked'].fillna('S')\n",
    "    test['embarked'] = test['embarked'].fillna('S')\n",
    "    return train, test\n",
    "\n",
    "def impute_age(train, test):\n",
    "    avg_age = train.age.mean()\n",
    "    train.age = train.age.fillna(avg_age)\n",
    "    test.age = test.age.fillna(avg_age)\n",
    "    return train, test\n",
    "\n",
    "def scale_columns(train, test):\n",
    "    scaler = MinMaxScaler()\n",
    "    train[['age','fare']] = scaler.fit_transform(train[['age','fare']])\n",
    "    test[['age','fare']] = scaler.transform(test[['age','fare']])\n",
    "    return scaler, train, test\n",
    "\n",
    "def ohe_columns(train, test):\n",
    "    # create encoder\n",
    "    ohe = OneHotEncoder(sparse=False, categories='auto')\n",
    "    \n",
    "    # fit scaler on train and transform train and test to dense matrices\n",
    "    train_matrix = ohe.fit_transform(train[['embarked']])\n",
    "    test_matrix = ohe.transform(test[['embarked']])\n",
    "    \n",
    "    # transform matrices to DataFrames\n",
    "    train_ohe = pd.DataFrame(train_matrix, columns=ohe.categories_[0], index=train.index)\n",
    "    test_ohe = pd.DataFrame(test_matrix, columns=ohe.categories_[0], index=test.index)\n",
    "    \n",
    "    # join encoded matrix with original train or test matrices\n",
    "    train = train.join(train_ohe)\n",
    "    test = test.join(test_ohe)\n",
    "    \n",
    "    return ohe, train, test\n",
    "\n",
    "def prep_titanic(df):\n",
    "\n",
    "    # drop the deck column bc most values Null\n",
    "    drop_columns(df)\n",
    "    \n",
    "    train, test = train_test_split(df, train_size=.75, stratify=df.survived, random_state=123)\n",
    "    \n",
    "    # impute 2 NaNs in embark_town with most frequent value\n",
    "    train, test = impute_embark_town(train, test)\n",
    "    \n",
    "    # impute 2 NaNs in embarked with most frequent value\n",
    "    train, test = impute_embarked(train, test)\n",
    "    \n",
    "    # impute NaNs in age in train and test with the mean age in train\n",
    "    train, test = impute_age(train, test)\n",
    "    \n",
    "    # use a minmax scaler on age and fare bc of differing measurement units\n",
    "    scaler, train, test = scale_columns(train, test)\n",
    "    \n",
    "    # ohe embarked creating three new columns for C, Q, S representing embark towns\n",
    "    ohe, train, test = ohe_columns(train, test)\n",
    "    \n",
    "    return scaler, ohe, train, test"
   ]
  },
  {
   "cell_type": "code",
   "execution_count": 46,
   "metadata": {},
   "outputs": [
    {
     "data": {
      "text/plain": [
       "(MinMaxScaler(),\n",
       " OneHotEncoder(sparse=False),\n",
       "      passenger_id  survived  pclass     sex       age  sibsp  parch      fare  \\\n",
       " 683           683         0       3    male  0.184561      5      2  0.091543   \n",
       " 421           421         0       3    male  0.279696      0      0  0.015094   \n",
       " 336           336         0       1    male  0.388421      1      0  0.129995   \n",
       " 681           681         1       1    male  0.361239      0      0  0.149765   \n",
       " 610           610         0       3  female  0.524327      1      5  0.061045   \n",
       " ..            ...       ...     ...     ...       ...    ...    ...       ...   \n",
       " 360           360         0       3    male  0.537918      1      4  0.054457   \n",
       " 635           635         1       2  female  0.374830      0      0  0.025374   \n",
       " 245           245         0       1    male  0.592281      2      0  0.175668   \n",
       " 768           768         0       3    male  0.389113      1      0  0.047138   \n",
       " 399           399         1       2  female  0.374830      0      0  0.024691   \n",
       " \n",
       "     embarked   class  embark_town  alone    C    Q    S  \n",
       " 683        S   Third  Southampton      0  0.0  0.0  1.0  \n",
       " 421        Q   Third   Queenstown      1  0.0  1.0  0.0  \n",
       " 336        S   First  Southampton      0  0.0  0.0  1.0  \n",
       " 681        C   First    Cherbourg      1  1.0  0.0  0.0  \n",
       " 610        S   Third  Southampton      0  0.0  0.0  1.0  \n",
       " ..       ...     ...          ...    ...  ...  ...  ...  \n",
       " 360        S   Third  Southampton      0  0.0  0.0  1.0  \n",
       " 635        S  Second  Southampton      1  0.0  0.0  1.0  \n",
       " 245        Q   First   Queenstown      0  0.0  1.0  0.0  \n",
       " 768        Q   Third   Queenstown      0  0.0  1.0  0.0  \n",
       " 399        S  Second  Southampton      1  0.0  0.0  1.0  \n",
       " \n",
       " [668 rows x 15 columns],\n",
       "      passenger_id  survived  pclass     sex       age  sibsp  parch      fare  \\\n",
       " 114           114         0       3  female  0.225333      0      0  0.028221   \n",
       " 75             75         0       3    male  0.334058      0      0  0.014932   \n",
       " 52             52         1       1  female  0.660234      1      0  0.149765   \n",
       " 192           192         1       3  female  0.252514      1      0  0.015330   \n",
       " 575           575         0       3    male  0.252514      0      0  0.028302   \n",
       " ..            ...       ...     ...     ...       ...    ...    ...       ...   \n",
       " 699           699         0       3    male  0.565099      0      0  0.014932   \n",
       " 510           510         1       3    male  0.388421      0      0  0.015127   \n",
       " 885           885         0       3  female  0.524327      0      5  0.056848   \n",
       " 559           559         1       3  female  0.483555      1      0  0.033963   \n",
       " 229           229         0       3  female  0.389113      3      1  0.049708   \n",
       " \n",
       "     embarked  class  embark_town  alone    C    Q    S  \n",
       " 114        C  Third    Cherbourg      1  1.0  0.0  0.0  \n",
       " 75         S  Third  Southampton      1  0.0  0.0  1.0  \n",
       " 52         C  First    Cherbourg      0  1.0  0.0  0.0  \n",
       " 192        S  Third  Southampton      0  0.0  0.0  1.0  \n",
       " 575        S  Third  Southampton      1  0.0  0.0  1.0  \n",
       " ..       ...    ...          ...    ...  ...  ...  ...  \n",
       " 699        S  Third  Southampton      1  0.0  0.0  1.0  \n",
       " 510        Q  Third   Queenstown      1  0.0  1.0  0.0  \n",
       " 885        Q  Third   Queenstown      0  0.0  1.0  0.0  \n",
       " 559        S  Third  Southampton      0  0.0  0.0  1.0  \n",
       " 229        S  Third  Southampton      0  0.0  0.0  1.0  \n",
       " \n",
       " [223 rows x 15 columns])"
      ]
     },
     "execution_count": 46,
     "metadata": {},
     "output_type": "execute_result"
    }
   ],
   "source": [
    "prep_titanic(titanic)"
   ]
  },
  {
   "cell_type": "code",
   "execution_count": null,
   "metadata": {},
   "outputs": [],
   "source": []
  }
 ],
 "metadata": {
  "kernelspec": {
   "display_name": "Python 3",
   "language": "python",
   "name": "python3"
  },
  "language_info": {
   "codemirror_mode": {
    "name": "ipython",
    "version": 3
   },
   "file_extension": ".py",
   "mimetype": "text/x-python",
   "name": "python",
   "nbconvert_exporter": "python",
   "pygments_lexer": "ipython3",
   "version": "3.8.3"
  }
 },
 "nbformat": 4,
 "nbformat_minor": 4
}
