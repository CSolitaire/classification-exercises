{
 "cells": [
  {
   "cell_type": "markdown",
   "metadata": {},
   "source": [
    "# Modeling Exercise: Logistic Regression\n",
    "## Corey Solitaire\n",
    "### 9.15.2020"
   ]
  },
  {
   "cell_type": "code",
   "execution_count": null,
   "metadata": {},
   "outputs": [],
   "source": [
    "import numpy as np\n",
    "import pandas as pd\n",
    "\n",
    "from sklearn.model_selection import train_test_split\n",
    "from sklearn.linear_model import LogisticRegression\n",
    "from sklearn.metrics import classification_report\n",
    "from sklearn.metrics import confusion_matrix\n",
    "\n",
    "\n",
    "import matplotlib.pyplot as plt\n",
    "%matplotlib inline\n",
    "import seaborn as sns\n",
    "# ignore warnings\n",
    "import warnings\n",
    "warnings.filterwarnings(\"ignore\")\n",
    "\n",
    "from acquire import get_titanic_data\n",
    "from prepare import prep_titanic_data\n",
    "from prepare import prep_titanic_data_alpha"
   ]
  },
  {
   "cell_type": "markdown",
   "metadata": {},
   "source": [
    "# In this exercise, we'll continue working with the titanic dataset and building logistic regression models. Throughout this exercise, be sure you are training, evaluation, and comparing models on the train and validate datasets. The test dataset should only be used for your final model.\n",
    "\n",
    "# For all of the models you create, choose a threshold that optimizes for accuracy."
   ]
  },
  {
   "cell_type": "code",
   "execution_count": null,
   "metadata": {},
   "outputs": [],
   "source": [
    "# Cleaned Data for Exploration\n",
    "df = prep_titanic_data(get_titanic_data())"
   ]
  },
  {
   "cell_type": "code",
   "execution_count": null,
   "metadata": {},
   "outputs": [],
   "source": [
    "df"
   ]
  },
  {
   "cell_type": "markdown",
   "metadata": {},
   "source": [
    "#### Estabolishing a Baseline"
   ]
  },
  {
   "cell_type": "code",
   "execution_count": null,
   "metadata": {},
   "outputs": [],
   "source": [
    "df.survived.value_counts() "
   ]
  },
  {
   "cell_type": "code",
   "execution_count": null,
   "metadata": {},
   "outputs": [],
   "source": [
    "baseline_accuracy = (1 - df.survived.mean())\n",
    "baseline_accuracy"
   ]
  },
  {
   "cell_type": "code",
   "execution_count": null,
   "metadata": {},
   "outputs": [],
   "source": [
    "# Just going to delete the missing values for now\n",
    "df.dropna(inplace=True)"
   ]
  },
  {
   "cell_type": "code",
   "execution_count": null,
   "metadata": {},
   "outputs": [],
   "source": [
    "df.head()"
   ]
  },
  {
   "cell_type": "code",
   "execution_count": null,
   "metadata": {},
   "outputs": [],
   "source": [
    "X = df[['pclass','age','fare','sibsp','parch']]\n",
    "y = df[['survived']]\n",
    "\n",
    "X_train_validate, X_test, y_train_validate, y_test = train_test_split(X, y, test_size = .20, random_state = 123)\n",
    "\n",
    "X_train, X_validate, y_train, y_validate = train_test_split(X_train_validate, y_train_validate, test_size = .30, random_state = 123)\n",
    "\n",
    "print(\"train: \", X_train.shape, \", validate: \", X_validate.shape, \", test: \", X_test.shape)\n",
    "print(\"train: \", y_train.shape, \", validate: \", y_validate.shape, \", test: \", y_test.shape)"
   ]
  },
  {
   "cell_type": "code",
   "execution_count": null,
   "metadata": {},
   "outputs": [],
   "source": [
    "X_train"
   ]
  },
  {
   "cell_type": "code",
   "execution_count": null,
   "metadata": {},
   "outputs": [],
   "source": [
    "#Baseline for our model\n",
    "survival_rate = (1- y_train.survived.mean())\n",
    "survival_rate"
   ]
  },
  {
   "cell_type": "markdown",
   "metadata": {},
   "source": [
    "### Initial Model: (#1)"
   ]
  },
  {
   "cell_type": "code",
   "execution_count": null,
   "metadata": {},
   "outputs": [],
   "source": [
    "## Create a logistic regression object\n",
    "\n",
    "# from sklearn.linear_model import LogisticRegression\n",
    "logit = LogisticRegression(C=1, class_weight={0:1, 1:99}, random_state=123, intercept_scaling=1, solver='lbfgs')"
   ]
  },
  {
   "cell_type": "code",
   "execution_count": null,
   "metadata": {},
   "outputs": [],
   "source": [
    "# Fit model to traning data\n",
    "logit.fit(X_train, y_train)"
   ]
  },
  {
   "cell_type": "code",
   "execution_count": null,
   "metadata": {},
   "outputs": [],
   "source": [
    "# Print coefficents and intercepts\n",
    "print('Coefficient: \\n', logit.coef_)\n",
    "print('Intercept: \\n', logit.intercept_)"
   ]
  },
  {
   "cell_type": "code",
   "execution_count": null,
   "metadata": {
    "scrolled": true
   },
   "outputs": [],
   "source": [
    "# make a prediction with traning data\n",
    "y_pred = logit.predict(X_train)"
   ]
  },
  {
   "cell_type": "code",
   "execution_count": null,
   "metadata": {},
   "outputs": [],
   "source": [
    "# estimate prob of survival with training data\n",
    "y_pred_proba = logit.predict_proba(X_train)"
   ]
  },
  {
   "cell_type": "code",
   "execution_count": null,
   "metadata": {},
   "outputs": [],
   "source": [
    "# Compute Accuracy\n",
    "print('Accuracy of Logistic Regression classifier on training set: {:.2f}'\n",
    "     .format(logit.score(X_train, y_train)))"
   ]
  },
  {
   "cell_type": "code",
   "execution_count": null,
   "metadata": {},
   "outputs": [],
   "source": [
    "# Create a confusion matrix\n",
    "print(confusion_matrix(y_train, y_pred))"
   ]
  },
  {
   "cell_type": "code",
   "execution_count": null,
   "metadata": {},
   "outputs": [],
   "source": [
    "# Compute percision and support\n",
    "\n",
    "print(classification_report(y_train, y_pred))"
   ]
  },
  {
   "cell_type": "markdown",
   "metadata": {},
   "source": [
    "### 1. Create another model that includes age in addition to fare and pclass. Does this model perform better than your previous one?"
   ]
  },
  {
   "cell_type": "code",
   "execution_count": null,
   "metadata": {},
   "outputs": [],
   "source": [
    "df1 = prep_titanic_data(get_titanic_data(cached=True))\n",
    "df1.head()"
   ]
  },
  {
   "cell_type": "code",
   "execution_count": null,
   "metadata": {},
   "outputs": [],
   "source": [
    "X = df1[['pclass','age','fare']]\n",
    "y = df1[['survived']]\n",
    "\n",
    "X_train_validate, X_test, y_train_validate, y_test = train_test_split(X, y, test_size = .20, random_state = 123)\n",
    "\n",
    "X_train, X_validate, y_train, y_validate = train_test_split(X_train_validate, y_train_validate, test_size = .30, random_state = 123)\n",
    "\n",
    "print(\"train: \", X_train.shape, \", validate: \", X_validate.shape, \", test: \", X_test.shape)\n",
    "print(\"train: \", y_train.shape, \", validate: \", y_validate.shape, \", test: \", y_test.shape)"
   ]
  },
  {
   "cell_type": "code",
   "execution_count": null,
   "metadata": {},
   "outputs": [],
   "source": [
    "X_train"
   ]
  },
  {
   "cell_type": "code",
   "execution_count": null,
   "metadata": {},
   "outputs": [],
   "source": [
    "# Must impute age, will use most frequent value\n",
    "\n",
    "from sklearn.impute import SimpleImputer\n",
    "imp_mean = SimpleImputer( strategy='most_frequent')\n",
    "imp_mean.fit(X_train)\n",
    "X_train = imp_mean.transform(X_train)"
   ]
  },
  {
   "cell_type": "code",
   "execution_count": null,
   "metadata": {},
   "outputs": [],
   "source": [
    "imp_mean = SimpleImputer( strategy='most_frequent')\n",
    "imp_mean.fit(X_validate)\n",
    "X_validate = imp_mean.transform(X_validate)"
   ]
  },
  {
   "cell_type": "code",
   "execution_count": null,
   "metadata": {},
   "outputs": [],
   "source": [
    "imp_mean = SimpleImputer( strategy='most_frequent')\n",
    "imp_mean.fit(X_test)\n",
    "X_test = imp_mean.transform(X_test)"
   ]
  },
  {
   "cell_type": "code",
   "execution_count": null,
   "metadata": {},
   "outputs": [],
   "source": [
    "logit1 = LogisticRegression(C=1, class_weight={1:2}, random_state = 123, solver='saga')\n",
    "logit1.fit(X_train, y_train)"
   ]
  },
  {
   "cell_type": "code",
   "execution_count": null,
   "metadata": {},
   "outputs": [],
   "source": [
    "# Print coefficents and intercepts\n",
    "print('Coefficient: \\n', logit1.coef_)\n",
    "print('Intercept: \\n', logit1.intercept_)"
   ]
  },
  {
   "cell_type": "code",
   "execution_count": null,
   "metadata": {},
   "outputs": [],
   "source": [
    "# make a prediction with traning data\n",
    "y_pred = logit1.predict(X_train)\n",
    "# estimate prob of survival with training data\n",
    "y_pred_proba = logit1.predict_proba(X_train)"
   ]
  },
  {
   "cell_type": "code",
   "execution_count": null,
   "metadata": {},
   "outputs": [],
   "source": [
    "# Compute Accuracy\n",
    "print('Accuracy of Logistic Regression classifier on training set: {:.2f}'\n",
    "     .format(logit1.score(X_train, y_train)))"
   ]
  },
  {
   "cell_type": "code",
   "execution_count": null,
   "metadata": {},
   "outputs": [],
   "source": [
    "# Create a confusion matrix\n",
    "print(confusion_matrix(y_train, y_pred))"
   ]
  },
  {
   "cell_type": "code",
   "execution_count": null,
   "metadata": {},
   "outputs": [],
   "source": [
    "# Compute percision and support\n",
    "print(classification_report(y_train, y_pred))"
   ]
  },
  {
   "cell_type": "markdown",
   "metadata": {},
   "source": [
    "### 2. Include sex in your model as well. Note that you'll need to encode this feature before including it in a model."
   ]
  },
  {
   "cell_type": "code",
   "execution_count": null,
   "metadata": {},
   "outputs": [],
   "source": [
    "df2 = prep_titanic_data(get_titanic_data())"
   ]
  },
  {
   "cell_type": "code",
   "execution_count": null,
   "metadata": {},
   "outputs": [],
   "source": [
    "X = df2[['pclass','age','fare','sex_cat']]\n",
    "y = df2[['survived']]\n",
    "\n",
    "X_train_validate, X_test, y_train_validate, y_test = train_test_split(X, y, test_size = .20, random_state = 123)\n",
    "\n",
    "X_train, X_validate, y_train, y_validate = train_test_split(X_train_validate, y_train_validate, test_size = .30, random_state = 123)\n",
    "\n",
    "print(\"train: \", X_train.shape, \", validate: \", X_validate.shape, \", test: \", X_test.shape)\n",
    "print(\"train: \", y_train.shape, \", validate: \", y_validate.shape, \", test: \", y_test.shape)"
   ]
  },
  {
   "cell_type": "code",
   "execution_count": null,
   "metadata": {},
   "outputs": [],
   "source": [
    "X_train"
   ]
  },
  {
   "cell_type": "code",
   "execution_count": null,
   "metadata": {},
   "outputs": [],
   "source": [
    "# Must impute age, will use most frequent value\n",
    "\n",
    "from sklearn.impute import SimpleImputer\n",
    "imp_mean = SimpleImputer( strategy='most_frequent')\n",
    "imp_mean.fit(X_train)\n",
    "X_train = imp_mean.transform(X_train)"
   ]
  },
  {
   "cell_type": "code",
   "execution_count": null,
   "metadata": {},
   "outputs": [],
   "source": [
    "imp_mean = SimpleImputer( strategy='most_frequent')\n",
    "imp_mean.fit(X_validate)\n",
    "X_validate = imp_mean.transform(X_validate)"
   ]
  },
  {
   "cell_type": "code",
   "execution_count": null,
   "metadata": {},
   "outputs": [],
   "source": [
    "imp_mean = SimpleImputer( strategy='most_frequent')\n",
    "imp_mean.fit(X_test)\n",
    "X_test = imp_mean.transform(X_test)"
   ]
  },
  {
   "cell_type": "code",
   "execution_count": null,
   "metadata": {},
   "outputs": [],
   "source": [
    "logit2 = LogisticRegression(C=1, class_weight={1:2}, random_state = 123, solver='saga')\n",
    "logit2.fit(X_train, y_train)\n",
    "# Print coefficents and intercepts\n",
    "print('Coefficient: \\n', logit2.coef_)\n",
    "print('Intercept: \\n', logit2.intercept_)"
   ]
  },
  {
   "cell_type": "code",
   "execution_count": null,
   "metadata": {},
   "outputs": [],
   "source": [
    "# make a prediction with traning data\n",
    "y_pred = logit2.predict(X_train)\n",
    "# estimate prob of survival with training data\n",
    "y_pred_proba = logit2.predict_proba(X_train)\n",
    "# Compute Accuracy\n",
    "print('Accuracy of Logistic Regression classifier on training set: {:.2f}'\n",
    "     .format(logit2.score(X_train, y_train)))"
   ]
  },
  {
   "cell_type": "code",
   "execution_count": null,
   "metadata": {},
   "outputs": [],
   "source": [
    "# Create a confusion matrix\n",
    "print(confusion_matrix(y_train, y_pred))"
   ]
  },
  {
   "cell_type": "code",
   "execution_count": null,
   "metadata": {},
   "outputs": [],
   "source": [
    "# Compute percision and support\n",
    "print(classification_report(y_train, y_pred))"
   ]
  },
  {
   "cell_type": "markdown",
   "metadata": {},
   "source": [
    "### 3. Try out other combinations of features and models."
   ]
  },
  {
   "cell_type": "code",
   "execution_count": null,
   "metadata": {},
   "outputs": [],
   "source": [
    "df3 = prep_titanic_data(get_titanic_data())\n",
    "df3.head()"
   ]
  },
  {
   "cell_type": "code",
   "execution_count": null,
   "metadata": {},
   "outputs": [],
   "source": [
    "X = df3[['pclass','alone','embark_town','sex_cat','age']]\n",
    "y = df3[['survived']]\n",
    "\n",
    "X_train_validate, X_test, y_train_validate, y_test = train_test_split(X, y, test_size = .20, random_state = 123)\n",
    "\n",
    "X_train, X_validate, y_train, y_validate = train_test_split(X_train_validate, y_train_validate, test_size = .30, random_state = 123)\n",
    "\n",
    "print(\"train: \", X_train.shape, \", validate: \", X_validate.shape, \", test: \", X_test.shape)\n",
    "print(\"train: \", y_train.shape, \", validate: \", y_validate.shape, \", test: \", y_test.shape)"
   ]
  },
  {
   "cell_type": "code",
   "execution_count": null,
   "metadata": {},
   "outputs": [],
   "source": [
    "X_train"
   ]
  },
  {
   "cell_type": "code",
   "execution_count": null,
   "metadata": {},
   "outputs": [],
   "source": [
    "from sklearn.impute import SimpleImputer\n",
    "imp_mean = SimpleImputer( strategy='most_frequent')\n",
    "imp_mean.fit(X_train)\n",
    "X_train = imp_mean.transform(X_train)"
   ]
  },
  {
   "cell_type": "code",
   "execution_count": null,
   "metadata": {},
   "outputs": [],
   "source": [
    "imp_mean = SimpleImputer( strategy='most_frequent')\n",
    "imp_mean.fit(X_validate)\n",
    "X_validate = imp_mean.transform(X_validate)"
   ]
  },
  {
   "cell_type": "code",
   "execution_count": null,
   "metadata": {},
   "outputs": [],
   "source": [
    "imp_mean = SimpleImputer( strategy='most_frequent')\n",
    "imp_mean.fit(X_test)\n",
    "X_test = imp_mean.transform(X_test)"
   ]
  },
  {
   "cell_type": "code",
   "execution_count": null,
   "metadata": {},
   "outputs": [],
   "source": [
    "logit3 = LogisticRegression(C=1, class_weight={1:2}, random_state = 123, solver='saga')\n",
    "logit3.fit(X_train, y_train)\n",
    "# make a prediction with traning data\n",
    "y_pred = logit3.predict(X_train)\n",
    "# estimate prob of survival with training data\n",
    "y_pred_proba = logit3.predict_proba(X_train)"
   ]
  },
  {
   "cell_type": "code",
   "execution_count": null,
   "metadata": {},
   "outputs": [],
   "source": [
    "# Print coefficents and intercepts\n",
    "print('Coefficient: \\n', logit3.coef_)\n",
    "print('Intercept: \\n', logit3.intercept_)"
   ]
  },
  {
   "cell_type": "code",
   "execution_count": null,
   "metadata": {},
   "outputs": [],
   "source": [
    "# Compute Accuracy\n",
    "print('Accuracy of Logistic Regression classifier on training set: {:.2f}'\n",
    "     .format(logit3.score(X_train, y_train)))"
   ]
  },
  {
   "cell_type": "code",
   "execution_count": null,
   "metadata": {},
   "outputs": [],
   "source": [
    "# Create a confusion matrix\n",
    "print(confusion_matrix(y_train, y_pred))"
   ]
  },
  {
   "cell_type": "code",
   "execution_count": null,
   "metadata": {},
   "outputs": [],
   "source": [
    "# Compute percision and support\n",
    "print(classification_report(y_train, y_pred))"
   ]
  },
  {
   "cell_type": "markdown",
   "metadata": {},
   "source": [
    "### Model 4: Imputer Variable Changed"
   ]
  },
  {
   "cell_type": "code",
   "execution_count": null,
   "metadata": {},
   "outputs": [],
   "source": [
    "df4 = prep_titanic_data(get_titanic_data())\n",
    "df4.head()"
   ]
  },
  {
   "cell_type": "code",
   "execution_count": null,
   "metadata": {},
   "outputs": [],
   "source": [
    "X = df4[['pclass','alone','embark_town','sex_cat','age']]\n",
    "y = df4[['survived']]\n",
    "\n",
    "X_train_validate, X_test, y_train_validate, y_test = train_test_split(X, y, test_size = .20, random_state = 123)\n",
    "\n",
    "X_train, X_validate, y_train, y_validate = train_test_split(X_train_validate, y_train_validate, test_size = .30, random_state = 123)\n",
    "\n",
    "print(\"train: \", X_train.shape, \", validate: \", X_validate.shape, \", test: \", X_test.shape)\n",
    "print(\"train: \", y_train.shape, \", validate: \", y_validate.shape, \", test: \", y_test.shape)"
   ]
  },
  {
   "cell_type": "code",
   "execution_count": null,
   "metadata": {},
   "outputs": [],
   "source": [
    "X_train"
   ]
  },
  {
   "cell_type": "code",
   "execution_count": null,
   "metadata": {},
   "outputs": [],
   "source": [
    "from sklearn.impute import SimpleImputer\n",
    "imp_mean = SimpleImputer( strategy='mean')\n",
    "imp_mean.fit(X_train)\n",
    "X_train = pd.DataFrame(imp_mean.transform(X_train))"
   ]
  },
  {
   "cell_type": "code",
   "execution_count": null,
   "metadata": {},
   "outputs": [],
   "source": [
    "imp_mean = SimpleImputer( strategy='mean')\n",
    "imp_mean.fit(X_validate)\n",
    "X_validate = pd.DataFrame(imp_mean.transform(X_validate))"
   ]
  },
  {
   "cell_type": "code",
   "execution_count": null,
   "metadata": {},
   "outputs": [],
   "source": [
    "imp_mean = SimpleImputer( strategy='mean')\n",
    "imp_mean.fit(X_test)\n",
    "X_test = pd.DataFrame(imp_mean.transform(X_test))"
   ]
  },
  {
   "cell_type": "code",
   "execution_count": null,
   "metadata": {},
   "outputs": [],
   "source": [
    "X_train"
   ]
  },
  {
   "cell_type": "code",
   "execution_count": null,
   "metadata": {},
   "outputs": [],
   "source": [
    "logit4 = LogisticRegression(C=1, class_weight={1:2}, random_state = 123, solver='saga')\n",
    "logit4.fit(X_train, y_train)\n",
    "#make a prediction with traning data\n",
    "y_pred = logit4.predict(X_train)\n",
    "#estimate prob of survival with training data\n",
    "y_pred_proba = logit4.predict_proba(X_train)\n",
    "# Compute Accuracy\n",
    "print('Accuracy of Logistic Regression classifier on training set: {:.2f}'.format(logit4.score(X_train, y_train)))"
   ]
  },
  {
   "cell_type": "code",
   "execution_count": null,
   "metadata": {},
   "outputs": [],
   "source": [
    "# Compute percision and support\n",
    "print(classification_report(y_train, y_pred))"
   ]
  },
  {
   "cell_type": "markdown",
   "metadata": {},
   "source": [
    "### Test (Model)"
   ]
  },
  {
   "cell_type": "code",
   "execution_count": null,
   "metadata": {},
   "outputs": [],
   "source": [
    "df5 = prep_titanic_data(get_titanic_data())\n",
    "\n",
    "X = df5[['pclass','alone','embark_town','sex_cat','age']]\n",
    "y = df5[['survived']]\n",
    "\n",
    "X_train_validate, X_test, y_train_validate, y_test = train_test_split(X, y, test_size = .20, random_state = 123)\n",
    "\n",
    "X_train, X_validate, y_train, y_validate = train_test_split(X_train_validate, y_train_validate, test_size = .30, random_state = 123)\n",
    "\n",
    "print(\"train: \", X_train.shape, \", validate: \", X_validate.shape, \", test: \", X_test.shape)\n",
    "print(\"train: \", y_train.shape, \", validate: \", y_validate.shape, \", test: \", y_test.shape)"
   ]
  },
  {
   "cell_type": "code",
   "execution_count": null,
   "metadata": {},
   "outputs": [],
   "source": [
    "from sklearn.impute import SimpleImputer\n",
    "imp_mean = SimpleImputer( strategy='median')\n",
    "imp_mean.fit(X_train)\n",
    "X_train = imp_mean.transform(X_train)\n",
    "\n",
    "imp_mean = SimpleImputer( strategy='median')\n",
    "imp_mean.fit(X_validate)\n",
    "X_validate = imp_mean.transform(X_validate)\n",
    "\n",
    "imp_mean = SimpleImputer( strategy='median')\n",
    "imp_mean.fit(X_test)\n",
    "X_test = imp_mean.transform(X_test)"
   ]
  },
  {
   "cell_type": "code",
   "execution_count": null,
   "metadata": {},
   "outputs": [],
   "source": [
    "logit5 = LogisticRegression(C=1, random_state = 123, solver='lbfgs')\n",
    "logit5.fit(X_train, y_train)\n",
    "#make a prediction with traning data\n",
    "y_pred = logit5.predict(X_train)\n",
    "#estimate prob of survival with training data\n",
    "y_pred_proba = logit5.predict_proba(X_train)\n",
    "# Compute Accuracy\n",
    "print('Accuracy of Logistic Regression classifier on training set: {:.2f}'.format(logit5.score(X_train, y_train)))"
   ]
  },
  {
   "cell_type": "code",
   "execution_count": null,
   "metadata": {},
   "outputs": [],
   "source": [
    "# Compute percision and support\n",
    "print(classification_report(y_train, y_pred))"
   ]
  },
  {
   "cell_type": "markdown",
   "metadata": {},
   "source": [
    "### Test Results for Simple Imputer : baseline = 0.68\n",
    "\n",
    "- Most_frequent : .68\n",
    "\n",
    "- Mean : 0.68\n",
    "\n",
    "- Median: 0.68\n",
    "\n",
    "Changes made no difference"
   ]
  },
  {
   "cell_type": "markdown",
   "metadata": {},
   "source": [
    "### Test Results for Change in Variable ('pclass','alone','embark_town','sex_cat','age') baseline =0.74\n",
    "\n",
    "- add sibsp 0.74\n",
    "\n",
    "- add parch 0.73\n",
    "\n",
    "- add fare 0.68"
   ]
  },
  {
   "cell_type": "markdown",
   "metadata": {},
   "source": [
    "### Test Results for Change in Function Peameters\n",
    "\n",
    "- C = 1 = 0.76\n",
    "  - (c=100 : 0.76 ), (c=0.001: 0.41)\n",
    "\n",
    "- class_weight = 0.74\n",
    "  - ( removed: 0.76 )\n",
    "\n",
    "- random_state (Constant)\n",
    "\n",
    "- Solver\n",
    "  - ('newton-cg':0.79 ) \n",
    "  - ('lbfgs': 0.79)\n",
    "  - ('liblinear': 0.78) \n",
    "  - ('sag': 0.78)\n",
    "  - ('saga': 0.76)"
   ]
  },
  {
   "cell_type": "markdown",
   "metadata": {},
   "source": [
    "### Test Results(penalty) baseline = 0.79\n",
    "Newton\n",
    "- None :0.79\n",
    "- l1 : NA\n",
    "- l2: 0.79\n",
    "- elasticnet: NA\n",
    "\n",
    "lbfgs\n",
    "- none: 0.79\n",
    "- l1: NA\n",
    "- l2:0.79\n",
    "- elasticnet: NA\n",
    "\n",
    "\n",
    "\n",
    "\n",
    "\n",
    "\n",
    "\n"
   ]
  },
  {
   "cell_type": "markdown",
   "metadata": {},
   "source": [
    "### 4. Choose you best model and evaluate it on the test dataset. Is it overfit?"
   ]
  },
  {
   "cell_type": "markdown",
   "metadata": {},
   "source": [
    "- I found that the top models were returned when I used five independent variables along with the newton and lb linear solver.  I pland on using these two solvers for my final model"
   ]
  },
  {
   "cell_type": "code",
   "execution_count": null,
   "metadata": {},
   "outputs": [],
   "source": [
    "#Test Model (newton-cg) #6\n",
    "df6 = prep_titanic_data(get_titanic_data())\n",
    "\n",
    "X = df6[['pclass','alone','embark_town','sex_cat','age']]\n",
    "y = df6[['survived']]\n",
    "\n",
    "X_train_validate, X_test, y_train_validate, y_test = train_test_split(X, y, test_size = .20, random_state = 123)\n",
    "\n",
    "X_train, X_validate, y_train, y_validate = train_test_split(X_train_validate, y_train_validate, test_size = .30, random_state = 123)\n",
    "\n",
    "print(\"train: \", X_train.shape, \", validate: \", X_validate.shape, \", test: \", X_test.shape)\n",
    "print(\"train: \", y_train.shape, \", validate: \", y_validate.shape, \", test: \", y_test.shape)\n"
   ]
  },
  {
   "cell_type": "code",
   "execution_count": null,
   "metadata": {},
   "outputs": [],
   "source": [
    "from sklearn.impute import SimpleImputer\n",
    "imp_mean = SimpleImputer( strategy='median')\n",
    "imp_mean.fit(X_train)\n",
    "X_train = pd.DataFrame(imp_mean.transform(X_train))\n",
    "\n",
    "imp_mean = SimpleImputer( strategy='median')\n",
    "imp_mean.fit(X_validate)\n",
    "X_validate = pd.DataFrame(imp_mean.transform(X_validate))\n",
    "\n",
    "imp_mean = SimpleImputer( strategy='median')\n",
    "imp_mean.fit(X_test)\n",
    "X_test = pd.DataFrame(imp_mean.transform(X_test))"
   ]
  },
  {
   "cell_type": "code",
   "execution_count": null,
   "metadata": {},
   "outputs": [],
   "source": [
    "logit6 = LogisticRegression(C=1, random_state = 123, solver='newton-cg')\n",
    "logit6.fit(X_train, y_train)\n",
    "#make a prediction with traning data\n",
    "y_pred = logit6.predict(X_train)\n",
    "#estimate prob of survival with training data\n",
    "y_pred_proba = logit6.predict_proba(X_train)"
   ]
  },
  {
   "cell_type": "code",
   "execution_count": null,
   "metadata": {},
   "outputs": [],
   "source": [
    "#Test Model (liblinear) #7\n",
    "df7 = prep_titanic_data(get_titanic_data())\n",
    "\n",
    "X = df7[['pclass','alone','embark_town','sex_cat','age']]\n",
    "y = df7[['survived']]\n",
    "\n",
    "X_train_validate, X_test, y_train_validate, y_test = train_test_split(X, y, test_size = .20, random_state = 123)\n",
    "\n",
    "X_train, X_validate, y_train, y_validate = train_test_split(X_train_validate, y_train_validate, test_size = .30, random_state = 123)\n",
    "\n",
    "print(\"train: \", X_train.shape, \", validate: \", X_validate.shape, \", test: \", X_test.shape)\n",
    "print(\"train: \", y_train.shape, \", validate: \", y_validate.shape, \", test: \", y_test.shape)"
   ]
  },
  {
   "cell_type": "code",
   "execution_count": null,
   "metadata": {},
   "outputs": [],
   "source": [
    "from sklearn.impute import SimpleImputer\n",
    "imp_mean = SimpleImputer( strategy='median')\n",
    "imp_mean.fit(X_train)\n",
    "X_train = pd.DataFrame(imp_mean.transform(X_train))\n",
    "\n",
    "imp_mean = SimpleImputer( strategy='median')\n",
    "imp_mean.fit(X_validate)\n",
    "X_validate = pd.DataFrame(imp_mean.transform(X_validate))\n",
    "\n",
    "imp_mean = SimpleImputer( strategy='median')\n",
    "imp_mean.fit(X_test)\n",
    "X_test = pd.DataFrame(imp_mean.transform(X_test))"
   ]
  },
  {
   "cell_type": "code",
   "execution_count": null,
   "metadata": {},
   "outputs": [],
   "source": [
    "logit7 = LogisticRegression(C=1, random_state = 123, solver='liblinear')\n",
    "logit7.fit(X_train, y_train)\n",
    "#make a prediction with traning data\n",
    "y_pred = logit7.predict(X_train)\n",
    "#estimate prob of survival with training data\n",
    "y_pred_proba = logit7.predict_proba(X_train)"
   ]
  },
  {
   "cell_type": "markdown",
   "metadata": {},
   "source": [
    "#### Evaluate Models #6 and #7 on Validate Sample"
   ]
  },
  {
   "cell_type": "code",
   "execution_count": null,
   "metadata": {},
   "outputs": [],
   "source": [
    "y_pred6 = logit6.predict(X_validate)\n",
    "y_pred7 = logit7.predict(X_validate)"
   ]
  },
  {
   "cell_type": "code",
   "execution_count": null,
   "metadata": {},
   "outputs": [],
   "source": [
    "print(\"model 6\\n\", logit6.score(X_validate, y_validate))\n",
    "print(\"model 7\\n\", logit7.score(X_validate, y_validate))"
   ]
  },
  {
   "cell_type": "code",
   "execution_count": null,
   "metadata": {},
   "outputs": [],
   "source": [
    "print(\"model 6\\n\", confusion_matrix(y_validate, y_pred6))\n",
    "\n",
    "print(\"model 7\\n\", confusion_matrix(y_validate, y_pred7))"
   ]
  },
  {
   "cell_type": "code",
   "execution_count": null,
   "metadata": {},
   "outputs": [],
   "source": [
    "print(\"model 6\\n\", classification_report(y_validate, y_pred6))\n",
    "\n",
    "print(\"model 7\\n\", classification_report(y_validate, y_pred7))"
   ]
  },
  {
   "cell_type": "markdown",
   "metadata": {},
   "source": [
    "#### Evaluate our best model on Test"
   ]
  },
  {
   "cell_type": "code",
   "execution_count": null,
   "metadata": {},
   "outputs": [],
   "source": [
    "y_pred = logit6.predict(X_test)\n",
    "y_pred_proba = logit6.predict_proba(X_test)\n",
    "\n",
    "accuracy = logit6.score(X_test, y_test)\n",
    "print(accuracy)\n",
    "\n",
    "print(confusion_matrix(y_test, y_pred))\n",
    "print(classification_report(y_test, y_pred))"
   ]
  },
  {
   "cell_type": "code",
   "execution_count": null,
   "metadata": {},
   "outputs": [],
   "source": [
    "y_pred_proba = np.array([i[1] for i in y_pred_proba])\n",
    "plt.scatter(y_pred_proba, y_test, c=y_pred)"
   ]
  },
  {
   "cell_type": "markdown",
   "metadata": {},
   "source": [
    "#### Was your data overfit?\n",
    "\n",
    "Training Accuracy = 0.79\n",
    "validate Accuracy = 0.80\n",
    "Test     Accuracy = 0.83\n",
    "\n",
    "- Model works well on unseen data, suggest that it is NOT overfit"
   ]
  },
  {
   "cell_type": "markdown",
   "metadata": {},
   "source": [
    "### 5. Bonus How do different strategies for handling the missing values in the age column affect model performance?"
   ]
  },
  {
   "cell_type": "markdown",
   "metadata": {},
   "source": [
    "- When i deleted all of the missing values my model accuracy went way down.  When i imputed the values with mean, median, most_frequent, the accuracy of my model was not effected."
   ]
  },
  {
   "cell_type": "markdown",
   "metadata": {},
   "source": [
    "\n",
    "### 6. Bonus: How do different strategies for encoding sex affect model performance?"
   ]
  },
  {
   "cell_type": "markdown",
   "metadata": {},
   "source": [
    "- I only using a binary encoding when using sex in my model.  Without using sex a data input in to my model its accuracy went down, so I know sex is important in how the model works. "
   ]
  },
  {
   "cell_type": "markdown",
   "metadata": {},
   "source": [
    "### 7. Bonus: scikit-learn's LogisticRegression classifier is actually applying a regularization penalty to the coefficients by default. This penalty causes the magnitude of the coefficients in the resulting model to be smaller than they otherwise would be. This value can be modified with the C hyper parameter. Small values of C correspond to a larger penalty, and large values of C correspond to a smaller penalty.\n",
    "\n",
    "### Try out the following values for C and note how the coefficients and the model's performance on both the dataset it was trained on and on the validate split are affected.\n",
    "\n",
    "### C=.01,.1,1,10,100,1000"
   ]
  },
  {
   "cell_type": "markdown",
   "metadata": {},
   "source": [
    "- Low c values kill my models accuracy , high c values do no affect it "
   ]
  },
  {
   "cell_type": "markdown",
   "metadata": {},
   "source": [
    "### Bonus Bonus: how does scaling the data interact with your choice of C?"
   ]
  },
  {
   "cell_type": "markdown",
   "metadata": {},
   "source": [
    "- We are not allowed to scale the data so I do not know"
   ]
  },
  {
   "cell_type": "markdown",
   "metadata": {},
   "source": [
    "# Model without adding back in Null Values"
   ]
  },
  {
   "cell_type": "code",
   "execution_count": null,
   "metadata": {},
   "outputs": [],
   "source": [
    "df8 = prep_titanic_data(get_titanic_data())\n",
    "df8.dropna(inplace=True)"
   ]
  },
  {
   "cell_type": "code",
   "execution_count": null,
   "metadata": {},
   "outputs": [],
   "source": [
    "X = df8[['pclass','alone','embark_town','sex_cat','age']]\n",
    "y = df8[['survived']]"
   ]
  },
  {
   "cell_type": "code",
   "execution_count": null,
   "metadata": {},
   "outputs": [],
   "source": [
    "X_train_validate, X_test, y_train_validate, y_test = train_test_split(X, y, test_size = .20, random_state = 123)\n",
    "\n",
    "X_train, X_validate, y_train, y_validate = train_test_split(X_train_validate, y_train_validate, test_size = .30, random_state = 123)\n",
    "\n",
    "print(\"train: \", X_train.shape, \", validate: \", X_validate.shape, \", test: \", X_test.shape)\n",
    "print(\"train: \", y_train.shape, \", validate: \", y_validate.shape, \", test: \", y_test.shape)"
   ]
  },
  {
   "cell_type": "code",
   "execution_count": null,
   "metadata": {},
   "outputs": [],
   "source": [
    "\n",
    "# Scaling Data\n",
    "# from sklearn.preprocessing import LabelEncoder, OneHotEncoder, MinMaxScaler\n",
    "# scaler = MinMaxScaler()\n",
    "# X_train[['pclass','alone','embark_town','sex_cat','age']] = scaler.fit_transform(X_train[['pclass','alone','embark_town','sex_cat','age']])\n",
    "# X_validate[['pclass','alone','embark_town','sex_cat','age']] = scaler.fit_transform(X_validate[['pclass','alone','embark_town','sex_cat','age']])\n",
    "# X_test[['pclass','alone','embark_town','sex_cat','age']] = scaler.transform(X_test[['pclass','alone','embark_town','sex_cat','age']])"
   ]
  },
  {
   "cell_type": "code",
   "execution_count": null,
   "metadata": {},
   "outputs": [],
   "source": [
    "#Imputing Missing Data\n",
    "# from sklearn.impute import SimpleImputer\n",
    "# imp_mean = SimpleImputer( strategy='most_frequent')\n",
    "# imp_mean.fit(X_train)\n",
    "# X_train = imp_mean.transform(X_train)\n",
    "\n",
    "# imp_mean = SimpleImputer( strategy='most_frequent')\n",
    "# imp_mean.fit(X_validate)\n",
    "# X_validate = imp_mean.transform(X_validate)\n",
    "\n",
    "# imp_mean = SimpleImputer( strategy='most_frequent')\n",
    "# imp_mean.fit(X_test)\n",
    "# X_test = imp_mean.transform(X_test)"
   ]
  },
  {
   "cell_type": "code",
   "execution_count": null,
   "metadata": {},
   "outputs": [],
   "source": [
    "logit8 = LogisticRegression(C=1, random_state = 123, solver='newton-cg')\n",
    "logit8.fit(X_train, y_train)\n",
    "#make a prediction with traning data\n",
    "y_pred = logit8.predict(X_train)\n",
    "#estimate prob of survival with training data\n",
    "y_pred_proba = logit8.predict_proba(X_train)"
   ]
  },
  {
   "cell_type": "code",
   "execution_count": null,
   "metadata": {},
   "outputs": [],
   "source": [
    "print('Accuracy of Logistic Regression classifier on training set: {:.2f}'.format(logit8.score(X_train, y_train)))"
   ]
  },
  {
   "cell_type": "code",
   "execution_count": null,
   "metadata": {},
   "outputs": [],
   "source": [
    "y_pred_proba.round()"
   ]
  },
  {
   "cell_type": "code",
   "execution_count": null,
   "metadata": {},
   "outputs": [],
   "source": [
    "y_pred"
   ]
  },
  {
   "cell_type": "markdown",
   "metadata": {},
   "source": [
    "# Modeling Activity"
   ]
  },
  {
   "cell_type": "code",
   "execution_count": null,
   "metadata": {},
   "outputs": [],
   "source": [
    "import numpy as np\n",
    "import matplotlib.pyplot as plt\n",
    "import scipy.stats\n",
    "\n",
    "test_y = y_pred\n",
    "predicted_y_probs = y_pred_proba\n",
    "\n",
    "def estimate_beta(X):\n",
    "    xbar = np.mean(X)\n",
    "    vbar = np.var(X,ddof=1)\n",
    "    alphahat = xbar*(xbar*(1-xbar)/vbar - 1)\n",
    "    betahat = (1-xbar)*(xbar*(1-xbar)/vbar - 1)\n",
    "    return alphahat, betahat\n",
    "\n",
    "positive_beta_estimates = estimate_beta(predicted_y_probs[test_y == 1])\n",
    "negative_beta_estimates = estimate_beta(predicted_y_probs[test_y == 0])\n",
    "\n",
    "unit_interval = np.linspace(0,1,100)\n",
    "plt.plot(unit_interval, scipy.stats.beta.pdf(unit_interval, *positive_beta_estimates), c='r', label=\"positive\")\n",
    "plt.plot(unit_interval, scipy.stats.beta.pdf(unit_interval, *negative_beta_estimates), c='g', label=\"negative\")\n",
    "\n",
    "# Show the threshold.\n",
    "plt.axvline(0.61, c='black', ls='dashed')\n",
    "plt.xlim(0,1)\n",
    "\n",
    "# Add labels\n",
    "plt.legend()"
   ]
  },
  {
   "cell_type": "code",
   "execution_count": null,
   "metadata": {},
   "outputs": [],
   "source": [
    "import numpy as np\n",
    "import matplotlib.pyplot as plt\n",
    "import scipy.stats\n",
    "\n",
    "test_y = np.array([0]*100 + [1]*100)\n",
    "predicted_y_probs = np.concatenate((np.random.beta(2,5,100), np.random.beta(8,3,100)))\n",
    "\n",
    "def estimate_beta(X):\n",
    "    xbar = np.mean(X)\n",
    "    vbar = np.var(X,ddof=1)\n",
    "    alphahat = xbar*(xbar*(1-xbar)/vbar - 1)\n",
    "    betahat = (1-xbar)*(xbar*(1-xbar)/vbar - 1)\n",
    "    return alphahat, betahat\n",
    "\n",
    "positive_beta_estimates = estimate_beta(predicted_y_probs[test_y == 1])\n",
    "negative_beta_estimates = estimate_beta(predicted_y_probs[test_y == 0])\n",
    "\n",
    "unit_interval = np.linspace(0,1,100)\n",
    "plt.plot(unit_interval, scipy.stats.beta.pdf(unit_interval, *positive_beta_estimates), c='r', label=\"positive\")\n",
    "plt.plot(unit_interval, scipy.stats.beta.pdf(unit_interval, *negative_beta_estimates), c='g', label=\"negative\")\n",
    "\n",
    "# Show the threshold.\n",
    "plt.axvline(0.5, c='black', ls='dashed')\n",
    "plt.xlim(0,1)\n",
    "\n",
    "# Add labels\n",
    "plt.legend()"
   ]
  },
  {
   "cell_type": "code",
   "execution_count": null,
   "metadata": {},
   "outputs": [],
   "source": [
    "test_y = np.array([0]*100 + [1]*100)\n",
    "test_y"
   ]
  },
  {
   "cell_type": "markdown",
   "metadata": {},
   "source": [
    "# 2nd attempt"
   ]
  },
  {
   "cell_type": "code",
   "execution_count": null,
   "metadata": {},
   "outputs": [],
   "source": [
    "# acquire (ok, kinda cheating there)\n",
    "tips = sns.load_dataset('tips')\n",
    "tips = tips.drop_duplicates()\n",
    "tips_dummies = pd.get_dummies(tips[['sex', 'day', 'time', 'smoker']], drop_first=True)\n",
    "tips = pd.concat([tips, tips_dummies], axis=1)\n",
    "# create target variable: low_tip, defined as tip < 15% of total bill. \n",
    "# create target variable: low_tip, defined as tip < 15% of total bill. \n",
    "tips['low_tip_target'] = tips.tip/tips.total_bill < .15\n",
    "cols_to_drop = ['tip', 'sex', 'smoker', 'day', 'time']\n",
    "tips.drop(columns=cols_to_drop, inplace = True)\n",
    "train_validate, test = train_test_split(tips, test_size=.2, random_state=123, \n",
    "                                        stratify=tips.low_tip_target)\n",
    "train, validate = train_test_split(train_validate, test_size=.3, random_state=123, \n",
    "                                   stratify=train_validate.low_tip_target)\n",
    "logit = LogisticRegression()\n",
    "\n",
    "X_train = train.drop(columns=['low_tip_target'])\n",
    "y_train = train.low_tip_target\n",
    "\n",
    "X_validate = validate.drop(columns=['low_tip_target'])\n",
    "y_validate = validate.low_tip_target\n",
    "\n",
    "X_test = test.drop(columns=['low_tip_target'])\n",
    "y_test = test.low_tip_target\n",
    "\n",
    "logit = logit.fit(X_train, y_train)\n",
    "\n",
    "y_pred = logit.predict(X_train)\n",
    "y_pred_proba = logit.predict_proba(X_train)\n",
    "\n",
    "print(confusion_matrix(y_train, y_pred))\n",
    "# accuracy\n",
    "logit.score(X_train, y_train)\n"
   ]
  },
  {
   "attachments": {
    "image.png": {
     "image/png": "[encoded data removed]"
    }
   },
   "cell_type": "markdown",
   "metadata": {},
   "source": [
    "![image.png](attachment:image.png)"
   ]
  },
  {
   "cell_type": "code",
   "execution_count": null,
   "metadata": {},
   "outputs": [],
   "source": [
    "import numpy as np\n",
    "import matplotlib.pyplot as plt\n",
    "import scipy.stats\n",
    "\n",
    "test_y = y_pred\n",
    "predicted_y_probs = y_pred_proba\n",
    "\n",
    "def estimate_beta(X):\n",
    "    xbar = np.mean(X)\n",
    "    vbar = np.var(X,ddof=1)\n",
    "    alphahat = xbar*(xbar*(1-xbar)/vbar - 1)\n",
    "    betahat = (1-xbar)*(xbar*(1-xbar)/vbar - 1)\n",
    "    return alphahat, betahat\n",
    "\n",
    "positive_beta_estimates = estimate_beta(predicted_y_probs[test_y == 1])\n",
    "negative_beta_estimates = estimate_beta(predicted_y_probs[test_y == 0])\n",
    "\n",
    "unit_interval = np.linspace(0,1,100)\n",
    "plt.plot(unit_interval, scipy.stats.beta.pdf(unit_interval, *positive_beta_estimates), c='r', label=\"positive\")\n",
    "plt.plot(unit_interval, scipy.stats.beta.pdf(unit_interval, *negative_beta_estimates), c='g', label=\"negative\")\n",
    "\n",
    "# Show the threshold.\n",
    "plt.axvline(0.66, c='black', ls='dashed')\n",
    "plt.xlim(0,1)\n",
    "\n",
    "# Add labels\n",
    "plt.legend()"
   ]
  },
  {
   "cell_type": "markdown",
   "metadata": {},
   "source": [
    "# Decision Tree Modeling Lesson"
   ]
  },
  {
   "cell_type": "code",
   "execution_count": 1,
   "metadata": {},
   "outputs": [],
   "source": [
    "# ignore warnings\n",
    "import warnings\n",
    "warnings.filterwarnings(\"ignore\")\n",
    "\n",
    "import numpy as np\n",
    "\n",
    "from pydataset import data\n",
    "\n",
    "from sklearn.model_selection import train_test_split\n",
    "from sklearn.tree import DecisionTreeClassifier\n",
    "from sklearn.tree import export_graphviz\n",
    "from sklearn.metrics import classification_report\n",
    "from sklearn.metrics import confusion_matrix\n",
    "\n",
    "import matplotlib.pyplot as plt\n",
    "%matplotlib inline\n",
    "import seaborn as sns\n",
    "\n",
    "from acquire import get_titanic_data\n",
    "from prepare import prep_titanic_data_alpha"
   ]
  },
  {
   "cell_type": "code",
   "execution_count": 22,
   "metadata": {},
   "outputs": [],
   "source": [
    "#Data that is not scaled, with null values dropped\n",
    "train, validate, test = prep_titanic_data_alpha(get_titanic_data())"
   ]
  },
  {
   "cell_type": "code",
   "execution_count": 3,
   "metadata": {},
   "outputs": [
    {
     "data": {
      "text/plain": [
       "0.5954773869346734"
      ]
     },
     "execution_count": 3,
     "metadata": {},
     "output_type": "execute_result"
    }
   ],
   "source": [
    "#Baseline Accuracy\n",
    "baseline_accuracy = (1 - train.survived.mean())\n",
    "baseline_accuracy"
   ]
  },
  {
   "cell_type": "markdown",
   "metadata": {},
   "source": [
    "#### Positive Condition = Not Survive\n",
    "\n",
    "#### Baseline Prediction is Not Survive with 60% Accuracy"
   ]
  },
  {
   "cell_type": "code",
   "execution_count": 4,
   "metadata": {},
   "outputs": [
    {
     "data": {
      "text/html": [
       "<div>\n",
       "<style scoped>\n",
       "    .dataframe tbody tr th:only-of-type {\n",
       "        vertical-align: middle;\n",
       "    }\n",
       "\n",
       "    .dataframe tbody tr th {\n",
       "        vertical-align: top;\n",
       "    }\n",
       "\n",
       "    .dataframe thead th {\n",
       "        text-align: right;\n",
       "    }\n",
       "</style>\n",
       "<table border=\"1\" class=\"dataframe\">\n",
       "  <thead>\n",
       "    <tr style=\"text-align: right;\">\n",
       "      <th></th>\n",
       "      <th>survived</th>\n",
       "      <th>pclass</th>\n",
       "      <th>age</th>\n",
       "      <th>sibsp</th>\n",
       "      <th>parch</th>\n",
       "      <th>fare</th>\n",
       "      <th>embark_town</th>\n",
       "      <th>alone</th>\n",
       "      <th>sex_female</th>\n",
       "      <th>sex_male</th>\n",
       "      <th>embark_town_Cherbourg</th>\n",
       "      <th>embark_town_Queenstown</th>\n",
       "      <th>embark_town_Southampton</th>\n",
       "      <th>sex_cat</th>\n",
       "    </tr>\n",
       "  </thead>\n",
       "  <tbody>\n",
       "    <tr>\n",
       "      <th>450</th>\n",
       "      <td>0</td>\n",
       "      <td>2</td>\n",
       "      <td>36.0</td>\n",
       "      <td>1</td>\n",
       "      <td>2</td>\n",
       "      <td>27.75</td>\n",
       "      <td>2</td>\n",
       "      <td>0</td>\n",
       "      <td>0</td>\n",
       "      <td>1</td>\n",
       "      <td>0</td>\n",
       "      <td>0</td>\n",
       "      <td>1</td>\n",
       "      <td>1</td>\n",
       "    </tr>\n",
       "    <tr>\n",
       "      <th>543</th>\n",
       "      <td>1</td>\n",
       "      <td>2</td>\n",
       "      <td>32.0</td>\n",
       "      <td>1</td>\n",
       "      <td>0</td>\n",
       "      <td>26.00</td>\n",
       "      <td>2</td>\n",
       "      <td>0</td>\n",
       "      <td>0</td>\n",
       "      <td>1</td>\n",
       "      <td>0</td>\n",
       "      <td>0</td>\n",
       "      <td>1</td>\n",
       "      <td>1</td>\n",
       "    </tr>\n",
       "    <tr>\n",
       "      <th>157</th>\n",
       "      <td>0</td>\n",
       "      <td>3</td>\n",
       "      <td>30.0</td>\n",
       "      <td>0</td>\n",
       "      <td>0</td>\n",
       "      <td>8.05</td>\n",
       "      <td>2</td>\n",
       "      <td>1</td>\n",
       "      <td>0</td>\n",
       "      <td>1</td>\n",
       "      <td>0</td>\n",
       "      <td>0</td>\n",
       "      <td>1</td>\n",
       "      <td>1</td>\n",
       "    </tr>\n",
       "    <tr>\n",
       "      <th>462</th>\n",
       "      <td>0</td>\n",
       "      <td>1</td>\n",
       "      <td>47.0</td>\n",
       "      <td>0</td>\n",
       "      <td>0</td>\n",
       "      <td>38.50</td>\n",
       "      <td>2</td>\n",
       "      <td>1</td>\n",
       "      <td>0</td>\n",
       "      <td>1</td>\n",
       "      <td>0</td>\n",
       "      <td>0</td>\n",
       "      <td>1</td>\n",
       "      <td>1</td>\n",
       "    </tr>\n",
       "    <tr>\n",
       "      <th>397</th>\n",
       "      <td>0</td>\n",
       "      <td>2</td>\n",
       "      <td>46.0</td>\n",
       "      <td>0</td>\n",
       "      <td>0</td>\n",
       "      <td>26.00</td>\n",
       "      <td>2</td>\n",
       "      <td>1</td>\n",
       "      <td>0</td>\n",
       "      <td>1</td>\n",
       "      <td>0</td>\n",
       "      <td>0</td>\n",
       "      <td>1</td>\n",
       "      <td>1</td>\n",
       "    </tr>\n",
       "  </tbody>\n",
       "</table>\n",
       "</div>"
      ],
      "text/plain": [
       "     survived  pclass   age  sibsp  parch   fare  embark_town  alone  \\\n",
       "450         0       2  36.0      1      2  27.75            2      0   \n",
       "543         1       2  32.0      1      0  26.00            2      0   \n",
       "157         0       3  30.0      0      0   8.05            2      1   \n",
       "462         0       1  47.0      0      0  38.50            2      1   \n",
       "397         0       2  46.0      0      0  26.00            2      1   \n",
       "\n",
       "     sex_female  sex_male  embark_town_Cherbourg  embark_town_Queenstown  \\\n",
       "450           0         1                      0                       0   \n",
       "543           0         1                      0                       0   \n",
       "157           0         1                      0                       0   \n",
       "462           0         1                      0                       0   \n",
       "397           0         1                      0                       0   \n",
       "\n",
       "     embark_town_Southampton  sex_cat  \n",
       "450                        1        1  \n",
       "543                        1        1  \n",
       "157                        1        1  \n",
       "462                        1        1  \n",
       "397                        1        1  "
      ]
     },
     "execution_count": 4,
     "metadata": {},
     "output_type": "execute_result"
    }
   ],
   "source": [
    "train.head()"
   ]
  },
  {
   "cell_type": "code",
   "execution_count": 5,
   "metadata": {},
   "outputs": [
    {
     "name": "stdout",
     "output_type": "stream",
     "text": [
      "<class 'pandas.core.frame.DataFrame'>\n",
      "Int64Index: 398 entries, 450 to 749\n",
      "Data columns (total 14 columns):\n",
      " #   Column                   Non-Null Count  Dtype  \n",
      "---  ------                   --------------  -----  \n",
      " 0   survived                 398 non-null    int64  \n",
      " 1   pclass                   398 non-null    int64  \n",
      " 2   age                      398 non-null    float64\n",
      " 3   sibsp                    398 non-null    int64  \n",
      " 4   parch                    398 non-null    int64  \n",
      " 5   fare                     398 non-null    float64\n",
      " 6   embark_town              398 non-null    int8   \n",
      " 7   alone                    398 non-null    int64  \n",
      " 8   sex_female               398 non-null    uint8  \n",
      " 9   sex_male                 398 non-null    uint8  \n",
      " 10  embark_town_Cherbourg    398 non-null    uint8  \n",
      " 11  embark_town_Queenstown   398 non-null    uint8  \n",
      " 12  embark_town_Southampton  398 non-null    uint8  \n",
      " 13  sex_cat                  398 non-null    int8   \n",
      "dtypes: float64(2), int64(5), int8(2), uint8(5)\n",
      "memory usage: 27.6 KB\n"
     ]
    }
   ],
   "source": [
    "train.info()"
   ]
  },
  {
   "cell_type": "markdown",
   "metadata": {},
   "source": [
    "### 1. Fit the decision tree classifier to your training sample and transform \n",
    "### (i.e. make predictions on the training sample)"
   ]
  },
  {
   "cell_type": "code",
   "execution_count": 27,
   "metadata": {},
   "outputs": [
    {
     "name": "stdout",
     "output_type": "stream",
     "text": [
      "Accuracy of Decision Tree classifier on training set: 0.84\n",
      "[[230   7]\n",
      " [ 56 105]]\n",
      "              precision    recall  f1-score   support\n",
      "\n",
      "           0       0.80      0.97      0.88       237\n",
      "           1       0.94      0.65      0.77       161\n",
      "\n",
      "    accuracy                           0.84       398\n",
      "   macro avg       0.87      0.81      0.82       398\n",
      "weighted avg       0.86      0.84      0.83       398\n",
      "\n"
     ]
    }
   ],
   "source": [
    "#Model 1 (Tests all variables)\n",
    "X_train1 = train.drop(columns=['survived'])\n",
    "y_train = train.survived\n",
    "clf = DecisionTreeClassifier(max_depth=3, random_state=123)\n",
    "clf.fit(X_train1, y_train)\n",
    "y_pred = clf.predict(X_train1)\n",
    "y_pred_proba = clf.predict_proba(X_train1)\n",
    "print('Accuracy of Decision Tree classifier on training set: {:.2f}'\n",
    "     .format(clf.score(X_train1, y_train)))\n",
    "print(confusion_matrix(y_train, y_pred))\n",
    "print(classification_report(y_train, y_pred))"
   ]
  },
  {
   "cell_type": "code",
   "execution_count": 28,
   "metadata": {},
   "outputs": [
    {
     "name": "stdout",
     "output_type": "stream",
     "text": [
      "Accuracy of Decision Tree classifier on training set: 0.84\n",
      "[[230   7]\n",
      " [ 58 103]]\n",
      "              precision    recall  f1-score   support\n",
      "\n",
      "           0       0.80      0.97      0.88       237\n",
      "           1       0.94      0.64      0.76       161\n",
      "\n",
      "    accuracy                           0.84       398\n",
      "   macro avg       0.87      0.81      0.82       398\n",
      "weighted avg       0.85      0.84      0.83       398\n",
      "\n"
     ]
    }
   ],
   "source": [
    "#Model 2 (pclass, age, alone, embark_town, sex_cat)\n",
    "X_train2 = train.drop(columns=['survived', 'sibsp', 'parch', 'fare', 'sex_female', 'sex_male', 'embark_town_Cherbourg', 'embark_town_Queenstown', 'embark_town_Southampton'])\n",
    "y_train = train.survived\n",
    "clf = DecisionTreeClassifier(max_depth=3, random_state=123)\n",
    "clf.fit(X_train2, y_train)\n",
    "y_pred = clf.predict(X_train2)\n",
    "y_pred_proba = clf.predict_proba(X_train2)\n",
    "print('Accuracy of Decision Tree classifier on training set: {:.2f}'\n",
    "     .format(clf.score(X_train2, y_train)))\n",
    "confusion_matrix(y_train, y_pred)\n",
    "print(confusion_matrix(y_train, y_pred))\n",
    "print(classification_report(y_train, y_pred))"
   ]
  },
  {
   "cell_type": "code",
   "execution_count": 34,
   "metadata": {},
   "outputs": [
    {
     "name": "stdout",
     "output_type": "stream",
     "text": [
      "Accuracy of Decision Tree classifier on training set: 0.84\n",
      "[[230   7]\n",
      " [ 58 103]]\n",
      "              precision    recall  f1-score   support\n",
      "\n",
      "           0       0.80      0.97      0.88       237\n",
      "           1       0.94      0.64      0.76       161\n",
      "\n",
      "    accuracy                           0.84       398\n",
      "   macro avg       0.87      0.81      0.82       398\n",
      "weighted avg       0.85      0.84      0.83       398\n",
      "\n"
     ]
    }
   ],
   "source": [
    "#Model 3\n",
    "X_train3 = train.drop(columns=['survived', 'sibsp', 'parch', 'fare', 'sex_male', 'sex_female' 'embark_town_Cherbourg', 'embark_town_Queenstown', 'embark_town_Southampton'])\n",
    "y_train = train.survived\n",
    "\n",
    "clf = DecisionTreeClassifier(max_depth=3, random_state=123)\n",
    "clf.fit(X_train3, y_train)\n",
    "y_pred = clf.predict(X_train3)\n",
    "y_pred_proba = clf.predict_proba(X_train3)\n",
    "print('Accuracy of Decision Tree classifier on training set: {:.2f}'\n",
    "     .format(clf.score(X_train3, y_train)))\n",
    "\n",
    "confusion_matrix(y_train, y_pred)\n",
    "print(confusion_matrix(y_train, y_pred))\n",
    "print(classification_report(y_train, y_pred))"
   ]
  },
  {
   "cell_type": "code",
   "execution_count": null,
   "metadata": {},
   "outputs": [],
   "source": []
  }
 ],
 "metadata": {
  "kernelspec": {
   "display_name": "Python 3",
   "language": "python",
   "name": "python3"
  },
  "language_info": {
   "codemirror_mode": {
    "name": "ipython",
    "version": 3
   },
   "file_extension": ".py",
   "mimetype": "text/x-python",
   "name": "python",
   "nbconvert_exporter": "python",
   "pygments_lexer": "ipython3",
   "version": "3.8.3"
  }
 },
 "nbformat": 4,
 "nbformat_minor": 4
}
