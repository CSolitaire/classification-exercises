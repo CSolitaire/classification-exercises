{
 "cells": [
  {
   "cell_type": "code",
   "execution_count": 18,
   "metadata": {},
   "outputs": [],
   "source": [
    "import warnings\n",
    "warnings.filterwarnings(\"ignore\")\n",
    "import pandas as pd\n",
    "import numpy as np\n",
    "import acquire\n",
    "import prepare\n",
    "\n",
    "import matplotlib.pyplot as plt\n",
    "%matplotlib inline\n",
    "import seaborn as sns\n",
    "\n",
    "from sklearn.model_selection import train_test_split\n",
    "from sklearn.impute import SimpleImputer\n",
    "from sklearn.preprocessing import LabelEncoder, OneHotEncoder, MinMaxScaler"
   ]
  },
  {
   "cell_type": "code",
   "execution_count": 23,
   "metadata": {},
   "outputs": [],
   "source": [
    "titanic = acquire.get_titanic_data(cached=True)"
   ]
  },
  {
   "cell_type": "code",
   "execution_count": 24,
   "metadata": {},
   "outputs": [
    {
     "data": {
      "text/plain": [
       "<module 'prepare' from '/Users/coreysolitaire/codeup-data-science/classification-exercises/prepare.py'>"
      ]
     },
     "execution_count": 24,
     "metadata": {},
     "output_type": "execute_result"
    }
   ],
   "source": [
    "prepare.get_titani"
   ]
  },
  {
   "cell_type": "code",
   "execution_count": 16,
   "metadata": {},
   "outputs": [
    {
     "data": {
      "text/plain": [
       "(LabelEncoder(),\n",
       "      species  sepal_length  sepal_width  petal_length  petal_width\n",
       " 30         0           4.8          3.1           1.6          0.2\n",
       " 36         0           5.5          3.5           1.3          0.2\n",
       " 29         0           4.7          3.2           1.6          0.2\n",
       " 55         1           5.7          2.8           4.5          1.3\n",
       " 118        2           7.7          2.6           6.9          2.3\n",
       " ..       ...           ...          ...           ...          ...\n",
       " 11         0           4.8          3.4           1.6          0.2\n",
       " 0          0           5.1          3.5           1.4          0.2\n",
       " 104        2           6.5          3.0           5.8          2.2\n",
       " 7          0           5.0          3.4           1.5          0.2\n",
       " 147        2           6.5          3.0           5.2          2.0\n",
       " \n",
       " [112 rows x 5 columns],\n",
       "      species  sepal_length  sepal_width  petal_length  petal_width\n",
       " 135        2           7.7          3.0           6.1          2.3\n",
       " 34         0           4.9          3.1           1.5          0.2\n",
       " 61         1           5.9          3.0           4.2          1.5\n",
       " 117        2           7.7          3.8           6.7          2.2\n",
       " 42         0           4.4          3.2           1.3          0.2\n",
       " 38         0           4.4          3.0           1.3          0.2\n",
       " 65         1           6.7          3.1           4.4          1.4\n",
       " 125        2           7.2          3.2           6.0          1.8\n",
       " 80         1           5.5          2.4           3.8          1.1\n",
       " 19         0           5.1          3.8           1.5          0.3\n",
       " 64         1           5.6          2.9           3.6          1.3\n",
       " 33         0           5.5          4.2           1.4          0.2\n",
       " 115        2           6.4          3.2           5.3          2.3\n",
       " 146        2           6.3          2.5           5.0          1.9\n",
       " 94         1           5.6          2.7           4.2          1.3\n",
       " 116        2           6.5          3.0           5.5          1.8\n",
       " 28         0           5.2          3.4           1.4          0.2\n",
       " 32         0           5.2          4.1           1.5          0.1\n",
       " 9          0           4.9          3.1           1.5          0.1\n",
       " 17         0           5.1          3.5           1.4          0.3\n",
       " 40         0           5.0          3.5           1.3          0.3\n",
       " 22         0           4.6          3.6           1.0          0.2\n",
       " 93         1           5.0          2.3           3.3          1.0\n",
       " 144        2           6.7          3.3           5.7          2.5\n",
       " 2          0           4.7          3.2           1.3          0.2\n",
       " 77         1           6.7          3.0           5.0          1.7\n",
       " 122        2           7.7          2.8           6.7          2.0\n",
       " 138        2           6.0          3.0           4.8          1.8\n",
       " 110        2           6.5          3.2           5.1          2.0\n",
       " 56         1           6.3          3.3           4.7          1.6\n",
       " 66         1           5.6          3.0           4.5          1.5\n",
       " 101        2           5.8          2.7           5.1          1.9\n",
       " 68         1           6.2          2.2           4.5          1.5\n",
       " 76         1           6.8          2.8           4.8          1.4\n",
       " 105        2           7.6          3.0           6.6          2.1\n",
       " 86         1           6.7          3.1           4.7          1.5\n",
       " 127        2           6.1          3.0           4.9          1.8\n",
       " 92         1           5.8          2.6           4.0          1.2)"
      ]
     },
     "execution_count": 16,
     "metadata": {},
     "output_type": "execute_result"
    }
   ],
   "source": [
    "iris = acquire.get_iris_data(cached=True)\n",
    "prepare.prep_iris(iris)"
   ]
  },
  {
   "cell_type": "code",
   "execution_count": null,
   "metadata": {},
   "outputs": [],
   "source": []
  }
 ],
 "metadata": {
  "kernelspec": {
   "display_name": "Python 3",
   "language": "python",
   "name": "python3"
  },
  "language_info": {
   "codemirror_mode": {
    "name": "ipython",
    "version": 3
   },
   "file_extension": ".py",
   "mimetype": "text/x-python",
   "name": "python",
   "nbconvert_exporter": "python",
   "pygments_lexer": "ipython3",
   "version": "3.8.3"
  }
 },
 "nbformat": 4,
 "nbformat_minor": 4
}
