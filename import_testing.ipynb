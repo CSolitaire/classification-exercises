{
 "cells": [
  {
   "cell_type": "code",
   "execution_count": 1,
   "metadata": {},
   "outputs": [],
   "source": [
    "import warnings\n",
    "warnings.filterwarnings(\"ignore\")\n",
    "import pandas as pd\n",
    "import numpy as np\n",
    "import acquire\n",
    "import prepare\n",
    "\n",
    "import matplotlib.pyplot as plt\n",
    "%matplotlib inline\n",
    "import seaborn as sns\n",
    "\n",
    "from sklearn.model_selection import train_test_split\n",
    "from sklearn.impute import SimpleImputer\n",
    "from sklearn.preprocessing import LabelEncoder, OneHotEncoder, MinMaxScaler"
   ]
  },
  {
   "cell_type": "code",
   "execution_count": 2,
   "metadata": {},
   "outputs": [],
   "source": [
    "titanic = acquire.get_titanic_data(cached=True)"
   ]
  },
  {
   "cell_type": "code",
   "execution_count": 3,
   "metadata": {},
   "outputs": [],
   "source": [
    "train, validate, test = prepare.prep_titanic(titanic)"
   ]
  },
  {
   "cell_type": "code",
   "execution_count": 6,
   "metadata": {},
   "outputs": [
    {
     "name": "stdout",
     "output_type": "stream",
     "text": [
      "<class 'pandas.core.frame.DataFrame'>\n",
      "Int64Index: 497 entries, 583 to 553\n",
      "Data columns (total 12 columns):\n",
      " #   Column                   Non-Null Count  Dtype  \n",
      "---  ------                   --------------  -----  \n",
      " 0   survived                 497 non-null    int64  \n",
      " 1   pclass                   497 non-null    int64  \n",
      " 2   sex                      497 non-null    object \n",
      " 3   age                      497 non-null    float64\n",
      " 4   sibsp                    497 non-null    int64  \n",
      " 5   parch                    497 non-null    int64  \n",
      " 6   fare                     497 non-null    float64\n",
      " 7   embark_town              497 non-null    object \n",
      " 8   alone                    497 non-null    int64  \n",
      " 9   sex_male                 497 non-null    uint8  \n",
      " 10  embark_town_Queenstown   497 non-null    uint8  \n",
      " 11  embark_town_Southampton  497 non-null    uint8  \n",
      "dtypes: float64(2), int64(5), object(2), uint8(3)\n",
      "memory usage: 40.3+ KB\n"
     ]
    }
   ],
   "source": [
    "train.info()"
   ]
  },
  {
   "cell_type": "code",
   "execution_count": 7,
   "metadata": {},
   "outputs": [
    {
     "name": "stdout",
     "output_type": "stream",
     "text": [
      "<class 'pandas.core.frame.DataFrame'>\n",
      "Int64Index: 214 entries, 610 to 26\n",
      "Data columns (total 12 columns):\n",
      " #   Column                   Non-Null Count  Dtype  \n",
      "---  ------                   --------------  -----  \n",
      " 0   survived                 214 non-null    int64  \n",
      " 1   pclass                   214 non-null    int64  \n",
      " 2   sex                      214 non-null    object \n",
      " 3   age                      214 non-null    float64\n",
      " 4   sibsp                    214 non-null    int64  \n",
      " 5   parch                    214 non-null    int64  \n",
      " 6   fare                     214 non-null    float64\n",
      " 7   embark_town              214 non-null    object \n",
      " 8   alone                    214 non-null    int64  \n",
      " 9   sex_male                 214 non-null    uint8  \n",
      " 10  embark_town_Queenstown   214 non-null    uint8  \n",
      " 11  embark_town_Southampton  214 non-null    uint8  \n",
      "dtypes: float64(2), int64(5), object(2), uint8(3)\n",
      "memory usage: 17.3+ KB\n"
     ]
    }
   ],
   "source": [
    "validate.info()"
   ]
  },
  {
   "cell_type": "code",
   "execution_count": 8,
   "metadata": {},
   "outputs": [
    {
     "name": "stdout",
     "output_type": "stream",
     "text": [
      "<class 'pandas.core.frame.DataFrame'>\n",
      "Int64Index: 178 entries, 561 to 809\n",
      "Data columns (total 12 columns):\n",
      " #   Column                   Non-Null Count  Dtype  \n",
      "---  ------                   --------------  -----  \n",
      " 0   survived                 178 non-null    int64  \n",
      " 1   pclass                   178 non-null    int64  \n",
      " 2   sex                      178 non-null    object \n",
      " 3   age                      178 non-null    float64\n",
      " 4   sibsp                    178 non-null    int64  \n",
      " 5   parch                    178 non-null    int64  \n",
      " 6   fare                     178 non-null    float64\n",
      " 7   embark_town              178 non-null    object \n",
      " 8   alone                    178 non-null    int64  \n",
      " 9   sex_male                 178 non-null    uint8  \n",
      " 10  embark_town_Queenstown   178 non-null    uint8  \n",
      " 11  embark_town_Southampton  178 non-null    uint8  \n",
      "dtypes: float64(2), int64(5), object(2), uint8(3)\n",
      "memory usage: 14.4+ KB\n"
     ]
    }
   ],
   "source": [
    "test.info()"
   ]
  },
  {
   "cell_type": "code",
   "execution_count": null,
   "metadata": {},
   "outputs": [],
   "source": []
  }
 ],
 "metadata": {
  "kernelspec": {
   "display_name": "Python 3",
   "language": "python",
   "name": "python3"
  },
  "language_info": {
   "codemirror_mode": {
    "name": "ipython",
    "version": 3
   },
   "file_extension": ".py",
   "mimetype": "text/x-python",
   "name": "python",
   "nbconvert_exporter": "python",
   "pygments_lexer": "ipython3",
   "version": "3.8.3"
  }
 },
 "nbformat": 4,
 "nbformat_minor": 4
}
