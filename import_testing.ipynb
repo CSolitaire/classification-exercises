{
 "cells": [
  {
   "cell_type": "code",
   "execution_count": 1,
   "metadata": {},
   "outputs": [],
   "source": [
    "import warnings\n",
    "warnings.filterwarnings(\"ignore\")\n",
    "import pandas as pd\n",
    "import numpy as np\n",
    "import acquire\n",
    "import prepare\n",
    "\n",
    "import matplotlib.pyplot as plt\n",
    "%matplotlib inline\n",
    "import seaborn as sns\n",
    "\n",
    "from sklearn.model_selection import train_test_split\n",
    "from sklearn.impute import SimpleImputer\n",
    "from sklearn.preprocessing import LabelEncoder, OneHotEncoder, MinMaxScaler"
   ]
  },
  {
   "cell_type": "code",
   "execution_count": 7,
   "metadata": {},
   "outputs": [
    {
     "ename": "TypeError",
     "evalue": "prep_telco_data() takes 0 positional arguments but 1 was given",
     "output_type": "error",
     "traceback": [
      "\u001b[0;31m---------------------------------------------------------------------------\u001b[0m",
      "\u001b[0;31mTypeError\u001b[0m                                 Traceback (most recent call last)",
      "\u001b[0;32m<ipython-input-7-4006a92b7176>\u001b[0m in \u001b[0;36m<module>\u001b[0;34m\u001b[0m\n\u001b[1;32m      1\u001b[0m \u001b[0mdf\u001b[0m \u001b[0;34m=\u001b[0m \u001b[0macquire\u001b[0m\u001b[0;34m.\u001b[0m\u001b[0mget_telco_data\u001b[0m\u001b[0;34m(\u001b[0m\u001b[0mcached\u001b[0m \u001b[0;34m=\u001b[0m \u001b[0;32mTrue\u001b[0m\u001b[0;34m)\u001b[0m\u001b[0;34m\u001b[0m\u001b[0;34m\u001b[0m\u001b[0m\n\u001b[0;32m----> 2\u001b[0;31m \u001b[0mtrain\u001b[0m\u001b[0;34m,\u001b[0m \u001b[0mvalidate\u001b[0m\u001b[0;34m,\u001b[0m \u001b[0mtest\u001b[0m \u001b[0;34m=\u001b[0m \u001b[0mprepare\u001b[0m\u001b[0;34m.\u001b[0m\u001b[0mprep_telco_data\u001b[0m\u001b[0;34m(\u001b[0m\u001b[0mdf\u001b[0m\u001b[0;34m)\u001b[0m\u001b[0;34m\u001b[0m\u001b[0;34m\u001b[0m\u001b[0m\n\u001b[0m",
      "\u001b[0;31mTypeError\u001b[0m: prep_telco_data() takes 0 positional arguments but 1 was given"
     ]
    }
   ],
   "source": [
    "df = acquire.get_telco_data(cached = True)\n",
    "train, validate, test = prepare.prep_telco_data(df)"
   ]
  },
  {
   "cell_type": "code",
   "execution_count": null,
   "metadata": {},
   "outputs": [],
   "source": []
  },
  {
   "cell_type": "raw",
   "metadata": {},
   "source": []
  },
  {
   "cell_type": "code",
   "execution_count": null,
   "metadata": {},
   "outputs": [],
   "source": [
    "#titanic = acquire.get_titanic_data(cached=True)"
   ]
  },
  {
   "cell_type": "code",
   "execution_count": null,
   "metadata": {},
   "outputs": [],
   "source": [
    "#train, validate, test = prepare.prep_titanic(titanic)"
   ]
  },
  {
   "cell_type": "code",
   "execution_count": null,
   "metadata": {},
   "outputs": [],
   "source": [
    "#train.info()"
   ]
  },
  {
   "cell_type": "code",
   "execution_count": null,
   "metadata": {},
   "outputs": [],
   "source": [
    "#validate.info()"
   ]
  },
  {
   "cell_type": "code",
   "execution_count": null,
   "metadata": {},
   "outputs": [],
   "source": [
    "#test.info()"
   ]
  },
  {
   "cell_type": "markdown",
   "metadata": {},
   "source": [
    "# Messing around with titanic data for exploratory data analysis"
   ]
  },
  {
   "cell_type": "code",
   "execution_count": null,
   "metadata": {},
   "outputs": [],
   "source": [
    "df = acquire.get_titanic_data(cached=True)\n",
    "train, validate, test = prepare.prep_titanic(df)\n",
    "\n",
    "train = train[['survived', 'pclass', 'sex', 'age', 'fare', 'embark_town', 'alone']]\n",
    "\n",
    "train.head()"
   ]
  },
  {
   "cell_type": "code",
   "execution_count": null,
   "metadata": {},
   "outputs": [],
   "source": [
    "survival_rate = train.survived.mean()"
   ]
  },
  {
   "cell_type": "code",
   "execution_count": null,
   "metadata": {},
   "outputs": [],
   "source": [
    "train.survived.value_counts().plot.bar()\n",
    "plt.xlabel('Survived')"
   ]
  },
  {
   "cell_type": "code",
   "execution_count": null,
   "metadata": {},
   "outputs": [],
   "source": [
    "train.groupby('sex').survived.mean().plot.bar(alpha=.8)\n",
    "plt.ylabel('Survival Rate')\n",
    "plt.hlines(survival_rate, *plt.xlim(), ls='--', alpha=.8)"
   ]
  },
  {
   "cell_type": "code",
   "execution_count": null,
   "metadata": {},
   "outputs": [],
   "source": [
    "train.groupby('alone').survived.mean().plot.bar(alpha=.8)\n",
    "plt.ylabel('Survival Rate')\n",
    "plt.hlines(survival_rate, *plt.xlim(), ls='--', alpha=.8)"
   ]
  },
  {
   "cell_type": "code",
   "execution_count": null,
   "metadata": {},
   "outputs": [],
   "source": [
    "# Exploring 2 categorical variables, but now we're treating survived as a category, not a number.\n",
    "pd.crosstab(train.survived, train.sex)"
   ]
  },
  {
   "cell_type": "code",
   "execution_count": null,
   "metadata": {},
   "outputs": [],
   "source": [
    "pd.crosstab(train.survived, train.alone)"
   ]
  },
  {
   "cell_type": "code",
   "execution_count": null,
   "metadata": {},
   "outputs": [],
   "source": [
    "train.groupby('survived').age.describe()"
   ]
  },
  {
   "cell_type": "code",
   "execution_count": null,
   "metadata": {},
   "outputs": [],
   "source": [
    "train.groupby('survived').fare.describe()"
   ]
  },
  {
   "cell_type": "code",
   "execution_count": null,
   "metadata": {},
   "outputs": [],
   "source": [
    "plt.figure(figsize=(13, 7))\n",
    "sns.swarmplot(data=train, y='sex', x='age', hue='survived')"
   ]
  },
  {
   "cell_type": "markdown",
   "metadata": {},
   "source": [
    "# Messing around with the TELCO project dataset"
   ]
  },
  {
   "cell_type": "code",
   "execution_count": null,
   "metadata": {},
   "outputs": [],
   "source": [
    "# We need to import data from SQL\n",
    "# Connect to employees database\n",
    "#defines function to create a sql url using personal credentials\n",
    "\n",
    "from env import host, user, password\n",
    "\n",
    "def get_db_url(database, user=user, host=host, password=password): \n",
    "    url = f'mysql+pymysql://{user}:{password}@{host}/{database}'\n",
    "    return url\n",
    "\n",
    "url = get_db_url('telco_churn')\n",
    "\n",
    "query = '''\n",
    "select * \n",
    "from customers as c\n",
    "join contract_types as ct\n",
    "on ct.contract_type_id = c.contract_type_id\n",
    "join internet_service_types as i_s\n",
    "on i_s.internet_service_type_id = c.internet_service_type_id\n",
    "join payment_types as pt\n",
    "on pt.payment_type_id = c.payment_type_id;\n",
    "'''\n",
    "df = pd.read_sql(query, url)"
   ]
  },
  {
   "cell_type": "code",
   "execution_count": null,
   "metadata": {},
   "outputs": [],
   "source": [
    "#Cleaned Data\n",
    "\n",
    "# Delete columns 'customer_id', contract_type_id, internet_service_type_id, payment_type_id    \n",
    "df.drop(columns = ['customer_id','contract_type_id','internet_service_type_id', 'payment_type_id'], inplace = True)\n",
    "# Replace partner, dependents, churn, phone_service, paperless billing, with boolean value\n",
    "df.partner.replace(['Yes', 'No'], [1,0], inplace = True)\n",
    "df.dependents.replace(['Yes', 'No'], [1,0], inplace = True)\n",
    "df.churn.replace(['Yes', 'No'], [1,0], inplace = True)\n",
    "df.phone_service.replace(['Yes', 'No'], [1,0], inplace = True)\n",
    "df.paperless_billing.replace(['Yes', 'No'], [1,0], inplace = True)\n",
    "# Add dummy variables as new columns in dataframe and rename them, delete origional\n",
    "gender = df.gender.str.get_dummies()\n",
    "df = pd.concat([df, gender], axis=1)\n",
    "df.rename(columns = {'Female': 'is_female', 'Male': 'is_male'}, inplace = True)\n",
    "df.drop(columns = ['gender'], inplace = True)\n",
    "# Add dummy variables as new columns in dataframe and rename them, delete origional\n",
    "multiple = df.multiple_lines.str.get_dummies()\n",
    "df = pd.concat([df, multiple], axis=1)\n",
    "df.rename(columns = {'No': 'no_multiple_lines', 'Yes': 'yes_multiple_lines'}, inplace = True)\n",
    "df.drop(columns = ['multiple_lines'], inplace = True)\n",
    "# Add dummy variables as new columns in dataframe and rename them, delete origional\n",
    "multiple = df.online_security.str.get_dummies()\n",
    "df = pd.concat([df, multiple], axis=1)\n",
    "df.rename(columns = {'No': 'no_online_security', 'Yes': 'yes_online_security'}, inplace = True)\n",
    "df.drop(columns = ['online_security'], inplace = True)\n",
    "# Add dummy variables as new columns in dataframe and rename them, delete origional\n",
    "multiple = df.online_backup.str.get_dummies()\n",
    "df = pd.concat([df, multiple], axis=1)\n",
    "df.rename(columns = {'No': 'no_online_backup', 'Yes': 'yes_online_backup'}, inplace = True)\n",
    "df.drop(columns = ['online_backup'], inplace = True)\n",
    "# Add dummy variables as new columns in dataframe and rename them, delete origional\n",
    "multiple = df.device_protection.str.get_dummies()\n",
    "df = pd.concat([df, multiple], axis=1)\n",
    "df.rename(columns = {'No': 'no_device_protection', 'Yes': 'yes_device_protection'}, inplace = True)\n",
    "df.drop(columns = ['device_protection'], inplace = True)\n",
    "# Add dummy variables as new columns in dataframe and rename them, delete origional\n",
    "multiple = df.tech_support.str.get_dummies()\n",
    "df = pd.concat([df, multiple], axis=1)\n",
    "df.rename(columns = {'No': 'no_tech_support', 'Yes': 'yes_tech_support'}, inplace = True)\n",
    "df.drop(columns = ['tech_support'], inplace = True)\n",
    "# Add dummy variables as new columns in dataframe and rename them, delete origional\n",
    "multiple = df.streaming_tv.str.get_dummies()\n",
    "df = pd.concat([df, multiple], axis=1)\n",
    "df.rename(columns = {'No': 'no_streaming_tv', 'Yes': 'yes_streaming_tv'}, inplace = True)\n",
    "df.drop(columns = ['streaming_tv', 'No internet service'], inplace = True)\n",
    "# Add dummy variables as new columns in dataframe and rename them, delete origional\n",
    "multiple = df.streaming_movies.str.get_dummies()\n",
    "df = pd.concat([df, multiple], axis=1)\n",
    "df.rename(columns = {'No': 'no_streaming_movies', 'Yes': 'yes_streaming_movies'}, inplace = True)\n",
    "df.drop(columns = ['streaming_movies'], inplace = True)\n",
    "# Add dummy variables as new columns in dataframe and rename them, delete origional\n",
    "multiple = df.contract_type.str.get_dummies()\n",
    "df = pd.concat([df, multiple], axis=1)\n",
    "df.rename(columns = {'Month-to-month': 'month_to_month_contract', 'One year': 'one_year_contract', 'Two year': 'two_year_contract'}, inplace = True)\n",
    "df.drop(columns = ['contract_type'], inplace = True)\n",
    "# Add dummy variables as new columns in dataframe and rename them, delete origional\n",
    "multiple = df.internet_service_type.str.get_dummies()\n",
    "df = pd.concat([df, multiple], axis=1)\n",
    "df.rename(columns = {'DSL': 'dsl', 'Fiber optic': 'fiber_optic'}, inplace = True)\n",
    "df.drop(columns = ['internet_service_type','None'], inplace = True)\n",
    "# Add dummy variables as new columns in dataframe and rename them, delete origional\n",
    "multiple = df.payment_type.str.get_dummies()\n",
    "df = pd.concat([df, multiple], axis=1)\n",
    "df.rename(columns = {'Bank transfer (automatic)': 'auto_bank_transfer', 'Credit card (automatic)': 'auto_credit_card', 'Electronic check': 'e_check', 'Mailed check': 'mail_check'}, inplace = True)\n",
    "df.drop(columns = ['payment_type'], inplace = True)\n",
    "# Change total_charges to float from object\n",
    "df['total_charges'] = pd.to_numeric(df['total_charges'],errors='coerce')"
   ]
  },
  {
   "cell_type": "code",
   "execution_count": null,
   "metadata": {},
   "outputs": [],
   "source": [
    "df.info()"
   ]
  },
  {
   "cell_type": "code",
   "execution_count": null,
   "metadata": {},
   "outputs": [],
   "source": [
    "'''\n",
    "Things to Consider:\n",
    "1. How to handle colums that could be booleans (Yes/No/Null)\n",
    "   -Keep as object or turn to int ?\n",
    "   -Columns include '''\n",
    "   \n",
    "  \n",
    "\n",
    "''' contract_type\n",
    "    \n",
    "2. Total charges change to float, it is currently an object\n",
    "3. Delete origional dummy variable columns\n",
    "'''"
   ]
  },
  {
   "cell_type": "code",
   "execution_count": null,
   "metadata": {},
   "outputs": [],
   "source": [
    "# dummy multiple lines\n",
    "\n",
    "df"
   ]
  },
  {
   "cell_type": "code",
   "execution_count": null,
   "metadata": {},
   "outputs": [],
   "source": []
  },
  {
   "cell_type": "code",
   "execution_count": null,
   "metadata": {},
   "outputs": [],
   "source": []
  }
 ],
 "metadata": {
  "kernelspec": {
   "display_name": "Python 3",
   "language": "python",
   "name": "python3"
  },
  "language_info": {
   "codemirror_mode": {
    "name": "ipython",
    "version": 3
   },
   "file_extension": ".py",
   "mimetype": "text/x-python",
   "name": "python",
   "nbconvert_exporter": "python",
   "pygments_lexer": "ipython3",
   "version": "3.8.3"
  }
 },
 "nbformat": 4,
 "nbformat_minor": 4
}
