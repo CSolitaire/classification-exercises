{
 "cells": [
  {
   "cell_type": "code",
   "execution_count": 1,
   "metadata": {},
   "outputs": [],
   "source": [
    "import warnings\n",
    "warnings.filterwarnings(\"ignore\")\n",
    "import pandas as pd\n",
    "import numpy as np\n",
    "import acquire\n",
    "import prepare\n",
    "\n",
    "import matplotlib.pyplot as plt\n",
    "%matplotlib inline\n",
    "import seaborn as sns\n",
    "\n",
    "from sklearn.model_selection import train_test_split\n",
    "from sklearn.impute import SimpleImputer\n",
    "from sklearn.preprocessing import LabelEncoder, OneHotEncoder, MinMaxScaler"
   ]
  },
  {
   "cell_type": "code",
   "execution_count": 2,
   "metadata": {},
   "outputs": [],
   "source": [
    "# Cleaned Data for Exploration\n",
    "df = acquire.get_telco_data(cached = True)\n",
    "train, validate, test = prepare.prep_telco_data(df)"
   ]
  },
  {
   "cell_type": "code",
   "execution_count": 9,
   "metadata": {},
   "outputs": [
    {
     "name": "stdout",
     "output_type": "stream",
     "text": [
      "<class 'pandas.core.frame.DataFrame'>\n",
      "Int64Index: 3943 entries, 5670 to 6867\n",
      "Data columns (total 48 columns):\n",
      " #   Column                   Non-Null Count  Dtype  \n",
      "---  ------                   --------------  -----  \n",
      " 0   gender                   3943 non-null   object \n",
      " 1   senior_citizen           3943 non-null   int64  \n",
      " 2   partner                  3943 non-null   int64  \n",
      " 3   dependents               3943 non-null   int64  \n",
      " 4   tenure                   3943 non-null   int64  \n",
      " 5   phone_service            3943 non-null   int64  \n",
      " 6   multiple_lines           3943 non-null   object \n",
      " 7   online_security          3943 non-null   object \n",
      " 8   online_backup            3943 non-null   object \n",
      " 9   device_protection        3943 non-null   object \n",
      " 10  tech_support             3943 non-null   object \n",
      " 11  streaming_tv             3943 non-null   object \n",
      " 12  streaming_movies         3943 non-null   object \n",
      " 13  paperless_billing        3943 non-null   int64  \n",
      " 14  monthly_charges          3943 non-null   float64\n",
      " 15  total_charges            3935 non-null   float64\n",
      " 16  churn                    3943 non-null   int64  \n",
      " 17  contract_type            3943 non-null   object \n",
      " 18  internet_service_type    3943 non-null   object \n",
      " 19  payment_type             3943 non-null   object \n",
      " 20  is_female                3943 non-null   int64  \n",
      " 21  is_male                  3943 non-null   int64  \n",
      " 22  no_multiple_lines        3943 non-null   int64  \n",
      " 23  No phone service         3943 non-null   int64  \n",
      " 24  yes_multiple_lines       3943 non-null   int64  \n",
      " 25  no_online_security       3943 non-null   int64  \n",
      " 26  yes_online_security      3943 non-null   int64  \n",
      " 27  no_online_backup         3943 non-null   int64  \n",
      " 28  yes_online_backup        3943 non-null   int64  \n",
      " 29  no_device_protection     3943 non-null   int64  \n",
      " 30  yes_device_protection    3943 non-null   int64  \n",
      " 31  no_tech_support          3943 non-null   int64  \n",
      " 32  yes_tech_support         3943 non-null   int64  \n",
      " 33  no_streaming_tv          3943 non-null   int64  \n",
      " 34  yes_streaming_tv         3943 non-null   int64  \n",
      " 35  no_streaming_movies      3943 non-null   int64  \n",
      " 36  No internet service      3943 non-null   int64  \n",
      " 37  yes_streaming_movies     3943 non-null   int64  \n",
      " 38  month_to_month_contract  3943 non-null   int64  \n",
      " 39  one_year_contract        3943 non-null   int64  \n",
      " 40  two_year_contract        3943 non-null   int64  \n",
      " 41  dsl                      3943 non-null   int64  \n",
      " 42  fiber_optic              3943 non-null   int64  \n",
      " 43  None                     3943 non-null   int64  \n",
      " 44  auto_bank_transfer       3943 non-null   int64  \n",
      " 45  auto_credit_card         3943 non-null   int64  \n",
      " 46  e_check                  3943 non-null   int64  \n",
      " 47  mail_check               3943 non-null   int64  \n",
      "dtypes: float64(2), int64(35), object(11)\n",
      "memory usage: 1.5+ MB\n"
     ]
    }
   ],
   "source": [
    "train.info()"
   ]
  },
  {
   "cell_type": "code",
   "execution_count": 4,
   "metadata": {},
   "outputs": [],
   "source": [
    "churn_rate = train.churn.mean()"
   ]
  },
  {
   "cell_type": "code",
   "execution_count": 5,
   "metadata": {},
   "outputs": [
    {
     "data": {
      "text/plain": [
       "Text(0.5, 0, 'Churn')"
      ]
     },
     "execution_count": 5,
     "metadata": {},
     "output_type": "execute_result"
    },
    {
     "data": {
      "image/png": "[encoded data removed]",
      "text/plain": [
       "<Figure size 432x288 with 1 Axes>"
      ]
     },
     "metadata": {
      "needs_background": "light"
     },
     "output_type": "display_data"
    }
   ],
   "source": [
    "train.churn.value_counts().plot.bar()\n",
    "plt.xlabel('Churn')"
   ]
  },
  {
   "cell_type": "code",
   "execution_count": 6,
   "metadata": {},
   "outputs": [
    {
     "data": {
      "text/plain": [
       "<matplotlib.collections.LineCollection at 0x7f9990163820>"
      ]
     },
     "execution_count": 6,
     "metadata": {},
     "output_type": "execute_result"
    },
    {
     "data": {
      "image/png": "[encoded data removed]",
      "text/plain": [
       "<Figure size 432x288 with 1 Axes>"
      ]
     },
     "metadata": {
      "needs_background": "light"
     },
     "output_type": "display_data"
    }
   ],
   "source": [
    "train.groupby('gender').churn.mean().plot.bar(alpha=.8)\n",
    "plt.ylabel('Churn Rate')\n",
    "plt.hlines(churn_rate, *plt.xlim(), ls='--', alpha=.8)"
   ]
  },
  {
   "cell_type": "code",
   "execution_count": 7,
   "metadata": {},
   "outputs": [
    {
     "data": {
      "text/plain": [
       "<matplotlib.collections.LineCollection at 0x7f99901635e0>"
      ]
     },
     "execution_count": 7,
     "metadata": {},
     "output_type": "execute_result"
    },
    {
     "data": {
      "image/png": "[encoded data removed]",
      "text/plain": [
       "<Figure size 432x288 with 1 Axes>"
      ]
     },
     "metadata": {
      "needs_background": "light"
     },
     "output_type": "display_data"
    }
   ],
   "source": [
    "train.groupby('multiple_lines').churn.mean().plot.bar(alpha=.8)\n",
    "plt.ylabel('Churn Rate')\n",
    "plt.hlines(churn_rate, *plt.xlim(), ls='--', alpha=.8)"
   ]
  },
  {
   "cell_type": "code",
   "execution_count": 11,
   "metadata": {},
   "outputs": [
    {
     "data": {
      "text/plain": [
       "<matplotlib.collections.LineCollection at 0x7f99901939a0>"
      ]
     },
     "execution_count": 11,
     "metadata": {},
     "output_type": "execute_result"
    },
    {
     "data": {
      "image/png": "[encoded data removed]",
      "text/plain": [
       "<Figure size 432x288 with 1 Axes>"
      ]
     },
     "metadata": {
      "needs_background": "light"
     },
     "output_type": "display_data"
    }
   ],
   "source": [
    "train.groupby('online_security').churn.mean().plot.bar(alpha=.8)\n",
    "plt.ylabel('Churn Rate')\n",
    "plt.hlines(churn_rate, *plt.xlim(), ls='--', alpha=.8)"
   ]
  },
  {
   "cell_type": "code",
   "execution_count": 12,
   "metadata": {},
   "outputs": [
    {
     "data": {
      "text/plain": [
       "<matplotlib.collections.LineCollection at 0x7f99911fb040>"
      ]
     },
     "execution_count": 12,
     "metadata": {},
     "output_type": "execute_result"
    },
    {
     "data": {
      "image/png": "[encoded data removed]",
      "text/plain": [
       "<Figure size 432x288 with 1 Axes>"
      ]
     },
     "metadata": {
      "needs_background": "light"
     },
     "output_type": "display_data"
    }
   ],
   "source": [
    "train.groupby('online_backup').churn.mean().plot.bar(alpha=.8)\n",
    "plt.ylabel('Churn Rate')\n",
    "plt.hlines(churn_rate, *plt.xlim(), ls='--', alpha=.8)"
   ]
  },
  {
   "cell_type": "code",
   "execution_count": 13,
   "metadata": {},
   "outputs": [
    {
     "data": {
      "text/plain": [
       "<matplotlib.collections.LineCollection at 0x7f99912bb070>"
      ]
     },
     "execution_count": 13,
     "metadata": {},
     "output_type": "execute_result"
    },
    {
     "data": {
      "image/png": "[encoded data removed]",
      "text/plain": [
       "<Figure size 432x288 with 1 Axes>"
      ]
     },
     "metadata": {
      "needs_background": "light"
     },
     "output_type": "display_data"
    }
   ],
   "source": [
    "train.groupby('internet_service_type').churn.mean().plot.bar(alpha=.8)\n",
    "plt.ylabel('Churn Rate')\n",
    "plt.hlines(churn_rate, *plt.xlim(), ls='--', alpha=.8)"
   ]
  },
  {
   "cell_type": "code",
   "execution_count": 14,
   "metadata": {},
   "outputs": [
    {
     "data": {
      "text/plain": [
       "<matplotlib.collections.LineCollection at 0x7f9990193430>"
      ]
     },
     "execution_count": 14,
     "metadata": {},
     "output_type": "execute_result"
    },
    {
     "data": {
      "image/png": "[encoded data removed]",
      "text/plain": [
       "<Figure size 432x288 with 1 Axes>"
      ]
     },
     "metadata": {
      "needs_background": "light"
     },
     "output_type": "display_data"
    }
   ],
   "source": [
    "train.groupby('contract_type').churn.mean().plot.bar(alpha=.8)\n",
    "plt.ylabel('Churn Rate')\n",
    "plt.hlines(churn_rate, *plt.xlim(), ls='--', alpha=.8)"
   ]
  },
  {
   "cell_type": "code",
   "execution_count": 15,
   "metadata": {},
   "outputs": [
    {
     "data": {
      "text/plain": [
       "<matplotlib.collections.LineCollection at 0x7f99914e7070>"
      ]
     },
     "execution_count": 15,
     "metadata": {},
     "output_type": "execute_result"
    },
    {
     "data": {
      "image/png": "[encoded data removed]",
      "text/plain": [
       "<Figure size 432x288 with 1 Axes>"
      ]
     },
     "metadata": {
      "needs_background": "light"
     },
     "output_type": "display_data"
    }
   ],
   "source": [
    "train.groupby('payment_type').churn.mean().plot.bar(alpha=.8)\n",
    "plt.ylabel('Churn Rate')\n",
    "plt.hlines(churn_rate, *plt.xlim(), ls='--', alpha=.8)"
   ]
  },
  {
   "cell_type": "code",
   "execution_count": 16,
   "metadata": {},
   "outputs": [
    {
     "data": {
      "text/html": [
       "<div>\n",
       "<style scoped>\n",
       "    .dataframe tbody tr th:only-of-type {\n",
       "        vertical-align: middle;\n",
       "    }\n",
       "\n",
       "    .dataframe tbody tr th {\n",
       "        vertical-align: top;\n",
       "    }\n",
       "\n",
       "    .dataframe thead th {\n",
       "        text-align: right;\n",
       "    }\n",
       "</style>\n",
       "<table border=\"1\" class=\"dataframe\">\n",
       "  <thead>\n",
       "    <tr style=\"text-align: right;\">\n",
       "      <th>payment_type</th>\n",
       "      <th>Bank transfer (automatic)</th>\n",
       "      <th>Credit card (automatic)</th>\n",
       "      <th>Electronic check</th>\n",
       "      <th>Mailed check</th>\n",
       "    </tr>\n",
       "    <tr>\n",
       "      <th>churn</th>\n",
       "      <th></th>\n",
       "      <th></th>\n",
       "      <th></th>\n",
       "      <th></th>\n",
       "    </tr>\n",
       "  </thead>\n",
       "  <tbody>\n",
       "    <tr>\n",
       "      <th>0</th>\n",
       "      <td>700</td>\n",
       "      <td>706</td>\n",
       "      <td>741</td>\n",
       "      <td>750</td>\n",
       "    </tr>\n",
       "    <tr>\n",
       "      <th>1</th>\n",
       "      <td>160</td>\n",
       "      <td>126</td>\n",
       "      <td>587</td>\n",
       "      <td>173</td>\n",
       "    </tr>\n",
       "  </tbody>\n",
       "</table>\n",
       "</div>"
      ],
      "text/plain": [
       "payment_type  Bank transfer (automatic)  Credit card (automatic)  \\\n",
       "churn                                                              \n",
       "0                                   700                      706   \n",
       "1                                   160                      126   \n",
       "\n",
       "payment_type  Electronic check  Mailed check  \n",
       "churn                                         \n",
       "0                          741           750  \n",
       "1                          587           173  "
      ]
     },
     "execution_count": 16,
     "metadata": {},
     "output_type": "execute_result"
    }
   ],
   "source": [
    "pd.crosstab(train.churn, train.payment_type)"
   ]
  },
  {
   "cell_type": "code",
   "execution_count": 18,
   "metadata": {},
   "outputs": [
    {
     "data": {
      "text/plain": [
       "<matplotlib.axes._subplots.AxesSubplot at 0x7f998f6c2f40>"
      ]
     },
     "execution_count": 18,
     "metadata": {},
     "output_type": "execute_result"
    },
    {
     "data": {
      "image/png": "[encoded data removed]",
      "text/plain": [
       "<Figure size 432x288 with 2 Axes>"
      ]
     },
     "metadata": {
      "needs_background": "light"
     },
     "output_type": "display_data"
    }
   ],
   "source": [
    "sns.heatmap(train.pivot_table('churn', 'contract_type', 'internet_service_type'), cmap='Blues', annot=True)"
   ]
  },
  {
   "cell_type": "code",
   "execution_count": null,
   "metadata": {},
   "outputs": [],
   "source": [
    "#titanic = acquire.get_titanic_data(cached=True)"
   ]
  },
  {
   "cell_type": "code",
   "execution_count": null,
   "metadata": {},
   "outputs": [],
   "source": [
    "#train, validate, test = prepare.prep_titanic(titanic)"
   ]
  },
  {
   "cell_type": "code",
   "execution_count": null,
   "metadata": {},
   "outputs": [],
   "source": [
    "#train.info()"
   ]
  },
  {
   "cell_type": "code",
   "execution_count": null,
   "metadata": {},
   "outputs": [],
   "source": [
    "#validate.info()"
   ]
  },
  {
   "cell_type": "code",
   "execution_count": null,
   "metadata": {},
   "outputs": [],
   "source": [
    "#test.info()"
   ]
  },
  {
   "cell_type": "markdown",
   "metadata": {},
   "source": [
    "# Messing around with titanic data for exploratory data analysis"
   ]
  },
  {
   "cell_type": "code",
   "execution_count": null,
   "metadata": {},
   "outputs": [],
   "source": [
    "df = acquire.get_titanic_data(cached=True)\n",
    "train, validate, test = prepare.prep_titanic(df)\n",
    "\n",
    "train = train[['survived', 'pclass', 'sex', 'age', 'fare', 'embark_town', 'alone']]\n",
    "\n",
    "train.head()"
   ]
  },
  {
   "cell_type": "code",
   "execution_count": null,
   "metadata": {},
   "outputs": [],
   "source": [
    "survival_rate = train.survived.mean()"
   ]
  },
  {
   "cell_type": "code",
   "execution_count": null,
   "metadata": {},
   "outputs": [],
   "source": [
    "train.survived.value_counts().plot.bar()\n",
    "plt.xlabel('Survived')"
   ]
  },
  {
   "cell_type": "code",
   "execution_count": null,
   "metadata": {},
   "outputs": [],
   "source": [
    "train.groupby('sex').survived.mean().plot.bar(alpha=.8)\n",
    "plt.ylabel('Survival Rate')\n",
    "plt.hlines(survival_rate, *plt.xlim(), ls='--', alpha=.8)"
   ]
  },
  {
   "cell_type": "code",
   "execution_count": null,
   "metadata": {},
   "outputs": [],
   "source": [
    "train.groupby('alone').survived.mean().plot.bar(alpha=.8)\n",
    "plt.ylabel('Survival Rate')\n",
    "plt.hlines(survival_rate, *plt.xlim(), ls='--', alpha=.8)"
   ]
  },
  {
   "cell_type": "code",
   "execution_count": null,
   "metadata": {},
   "outputs": [],
   "source": [
    "# Exploring 2 categorical variables, but now we're treating survived as a category, not a number.\n",
    "pd.crosstab(train.survived, train.sex)"
   ]
  },
  {
   "cell_type": "code",
   "execution_count": null,
   "metadata": {},
   "outputs": [],
   "source": [
    "pd.crosstab(train.survived, train.alone)"
   ]
  },
  {
   "cell_type": "code",
   "execution_count": null,
   "metadata": {},
   "outputs": [],
   "source": [
    "train.groupby('survived').age.describe()"
   ]
  },
  {
   "cell_type": "code",
   "execution_count": null,
   "metadata": {},
   "outputs": [],
   "source": [
    "train.groupby('survived').fare.describe()"
   ]
  },
  {
   "cell_type": "code",
   "execution_count": null,
   "metadata": {},
   "outputs": [],
   "source": [
    "plt.figure(figsize=(13, 7))\n",
    "sns.swarmplot(data=train, y='sex', x='age', hue='survived')"
   ]
  },
  {
   "cell_type": "markdown",
   "metadata": {},
   "source": [
    "# Messing around with the TELCO project dataset"
   ]
  },
  {
   "cell_type": "code",
   "execution_count": null,
   "metadata": {},
   "outputs": [],
   "source": [
    "# We need to import data from SQL\n",
    "# Connect to employees database\n",
    "#defines function to create a sql url using personal credentials\n",
    "\n",
    "from env import host, user, password\n",
    "\n",
    "def get_db_url(database, user=user, host=host, password=password): \n",
    "    url = f'mysql+pymysql://{user}:{password}@{host}/{database}'\n",
    "    return url\n",
    "\n",
    "url = get_db_url('telco_churn')\n",
    "\n",
    "query = '''\n",
    "select * \n",
    "from customers as c\n",
    "join contract_types as ct\n",
    "on ct.contract_type_id = c.contract_type_id\n",
    "join internet_service_types as i_s\n",
    "on i_s.internet_service_type_id = c.internet_service_type_id\n",
    "join payment_types as pt\n",
    "on pt.payment_type_id = c.payment_type_id;\n",
    "'''\n",
    "df = pd.read_sql(query, url)"
   ]
  },
  {
   "cell_type": "code",
   "execution_count": null,
   "metadata": {},
   "outputs": [],
   "source": [
    "#Cleaned Data\n",
    "\n",
    "# Delete columns 'customer_id', contract_type_id, internet_service_type_id, payment_type_id    \n",
    "df.drop(columns = ['customer_id','contract_type_id','internet_service_type_id', 'payment_type_id'], inplace = True)\n",
    "# Replace partner, dependents, churn, phone_service, paperless billing, with boolean value\n",
    "df.partner.replace(['Yes', 'No'], [1,0], inplace = True)\n",
    "df.dependents.replace(['Yes', 'No'], [1,0], inplace = True)\n",
    "df.churn.replace(['Yes', 'No'], [1,0], inplace = True)\n",
    "df.phone_service.replace(['Yes', 'No'], [1,0], inplace = True)\n",
    "df.paperless_billing.replace(['Yes', 'No'], [1,0], inplace = True)\n",
    "# Add dummy variables as new columns in dataframe and rename them, delete origional\n",
    "gender = df.gender.str.get_dummies()\n",
    "df = pd.concat([df, gender], axis=1)\n",
    "df.rename(columns = {'Female': 'is_female', 'Male': 'is_male'}, inplace = True)\n",
    "df.drop(columns = ['gender'], inplace = True)\n",
    "# Add dummy variables as new columns in dataframe and rename them, delete origional\n",
    "multiple = df.multiple_lines.str.get_dummies()\n",
    "df = pd.concat([df, multiple], axis=1)\n",
    "df.rename(columns = {'No': 'no_multiple_lines', 'Yes': 'yes_multiple_lines'}, inplace = True)\n",
    "df.drop(columns = ['multiple_lines'], inplace = True)\n",
    "# Add dummy variables as new columns in dataframe and rename them, delete origional\n",
    "multiple = df.online_security.str.get_dummies()\n",
    "df = pd.concat([df, multiple], axis=1)\n",
    "df.rename(columns = {'No': 'no_online_security', 'Yes': 'yes_online_security'}, inplace = True)\n",
    "df.drop(columns = ['online_security'], inplace = True)\n",
    "# Add dummy variables as new columns in dataframe and rename them, delete origional\n",
    "multiple = df.online_backup.str.get_dummies()\n",
    "df = pd.concat([df, multiple], axis=1)\n",
    "df.rename(columns = {'No': 'no_online_backup', 'Yes': 'yes_online_backup'}, inplace = True)\n",
    "df.drop(columns = ['online_backup'], inplace = True)\n",
    "# Add dummy variables as new columns in dataframe and rename them, delete origional\n",
    "multiple = df.device_protection.str.get_dummies()\n",
    "df = pd.concat([df, multiple], axis=1)\n",
    "df.rename(columns = {'No': 'no_device_protection', 'Yes': 'yes_device_protection'}, inplace = True)\n",
    "df.drop(columns = ['device_protection'], inplace = True)\n",
    "# Add dummy variables as new columns in dataframe and rename them, delete origional\n",
    "multiple = df.tech_support.str.get_dummies()\n",
    "df = pd.concat([df, multiple], axis=1)\n",
    "df.rename(columns = {'No': 'no_tech_support', 'Yes': 'yes_tech_support'}, inplace = True)\n",
    "df.drop(columns = ['tech_support'], inplace = True)\n",
    "# Add dummy variables as new columns in dataframe and rename them, delete origional\n",
    "multiple = df.streaming_tv.str.get_dummies()\n",
    "df = pd.concat([df, multiple], axis=1)\n",
    "df.rename(columns = {'No': 'no_streaming_tv', 'Yes': 'yes_streaming_tv'}, inplace = True)\n",
    "df.drop(columns = ['streaming_tv', 'No internet service'], inplace = True)\n",
    "# Add dummy variables as new columns in dataframe and rename them, delete origional\n",
    "multiple = df.streaming_movies.str.get_dummies()\n",
    "df = pd.concat([df, multiple], axis=1)\n",
    "df.rename(columns = {'No': 'no_streaming_movies', 'Yes': 'yes_streaming_movies'}, inplace = True)\n",
    "df.drop(columns = ['streaming_movies'], inplace = True)\n",
    "# Add dummy variables as new columns in dataframe and rename them, delete origional\n",
    "multiple = df.contract_type.str.get_dummies()\n",
    "df = pd.concat([df, multiple], axis=1)\n",
    "df.rename(columns = {'Month-to-month': 'month_to_month_contract', 'One year': 'one_year_contract', 'Two year': 'two_year_contract'}, inplace = True)\n",
    "df.drop(columns = ['contract_type'], inplace = True)\n",
    "# Add dummy variables as new columns in dataframe and rename them, delete origional\n",
    "multiple = df.internet_service_type.str.get_dummies()\n",
    "df = pd.concat([df, multiple], axis=1)\n",
    "df.rename(columns = {'DSL': 'dsl', 'Fiber optic': 'fiber_optic'}, inplace = True)\n",
    "df.drop(columns = ['internet_service_type','None'], inplace = True)\n",
    "# Add dummy variables as new columns in dataframe and rename them, delete origional\n",
    "multiple = df.payment_type.str.get_dummies()\n",
    "df = pd.concat([df, multiple], axis=1)\n",
    "df.rename(columns = {'Bank transfer (automatic)': 'auto_bank_transfer', 'Credit card (automatic)': 'auto_credit_card', 'Electronic check': 'e_check', 'Mailed check': 'mail_check'}, inplace = True)\n",
    "df.drop(columns = ['payment_type'], inplace = True)\n",
    "# Change total_charges to float from object\n",
    "df['total_charges'] = pd.to_numeric(df['total_charges'],errors='coerce')"
   ]
  },
  {
   "cell_type": "code",
   "execution_count": null,
   "metadata": {},
   "outputs": [],
   "source": [
    "df.info()"
   ]
  },
  {
   "cell_type": "code",
   "execution_count": null,
   "metadata": {},
   "outputs": [],
   "source": [
    "'''\n",
    "Things to Consider:\n",
    "1. How to handle colums that could be booleans (Yes/No/Null)\n",
    "   -Keep as object or turn to int ?\n",
    "   -Columns include '''\n",
    "   \n",
    "  \n",
    "\n",
    "''' contract_type\n",
    "    \n",
    "2. Total charges change to float, it is currently an object\n",
    "3. Delete origional dummy variable columns\n",
    "'''"
   ]
  },
  {
   "cell_type": "code",
   "execution_count": null,
   "metadata": {},
   "outputs": [],
   "source": [
    "# dummy multiple lines\n",
    "\n",
    "df"
   ]
  },
  {
   "cell_type": "code",
   "execution_count": null,
   "metadata": {},
   "outputs": [],
   "source": []
  },
  {
   "cell_type": "code",
   "execution_count": null,
   "metadata": {},
   "outputs": [],
   "source": []
  }
 ],
 "metadata": {
  "kernelspec": {
   "display_name": "Python 3",
   "language": "python",
   "name": "python3"
  },
  "language_info": {
   "codemirror_mode": {
    "name": "ipython",
    "version": 3
   },
   "file_extension": ".py",
   "mimetype": "text/x-python",
   "name": "python",
   "nbconvert_exporter": "python",
   "pygments_lexer": "ipython3",
   "version": "3.8.3"
  }
 },
 "nbformat": 4,
 "nbformat_minor": 4
}
