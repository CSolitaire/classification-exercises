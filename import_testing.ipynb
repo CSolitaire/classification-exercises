{
 "cells": [
  {
   "cell_type": "code",
   "execution_count": 1,
   "metadata": {},
   "outputs": [],
   "source": [
    "import warnings\n",
    "warnings.filterwarnings(\"ignore\")\n",
    "import pandas as pd\n",
    "import numpy as np\n",
    "import acquire\n",
    "import prepare\n",
    "\n",
    "import matplotlib.pyplot as plt\n",
    "%matplotlib inline\n",
    "import seaborn as sns\n",
    "\n",
    "from sklearn.model_selection import train_test_split\n",
    "from sklearn.impute import SimpleImputer\n",
    "from sklearn.preprocessing import LabelEncoder, OneHotEncoder, MinMaxScaler"
   ]
  },
  {
   "cell_type": "code",
   "execution_count": 2,
   "metadata": {},
   "outputs": [],
   "source": [
    "titanic = acquire.get_titanic_data(cached=True)"
   ]
  },
  {
   "cell_type": "code",
   "execution_count": 3,
   "metadata": {},
   "outputs": [
    {
     "data": {
      "text/plain": [
       "(MinMaxScaler(),\n",
       " OneHotEncoder(sparse=False),\n",
       "      passenger_id  survived  pclass     sex       age  sibsp  parch      fare  \\\n",
       " 683           683         0       3    male  0.184561      5      2  0.091543   \n",
       " 421           421         0       3    male  0.279696      0      0  0.015094   \n",
       " 336           336         0       1    male  0.388421      1      0  0.129995   \n",
       " 681           681         1       1    male  0.361239      0      0  0.149765   \n",
       " 610           610         0       3  female  0.524327      1      5  0.061045   \n",
       " ..            ...       ...     ...     ...       ...    ...    ...       ...   \n",
       " 360           360         0       3    male  0.537918      1      4  0.054457   \n",
       " 635           635         1       2  female  0.374830      0      0  0.025374   \n",
       " 245           245         0       1    male  0.592281      2      0  0.175668   \n",
       " 768           768         0       3    male  0.389113      1      0  0.047138   \n",
       " 399           399         1       2  female  0.374830      0      0  0.024691   \n",
       " \n",
       "     embarked   class  embark_town  alone    C    Q    S  \n",
       " 683        S   Third  Southampton      0  0.0  0.0  1.0  \n",
       " 421        Q   Third   Queenstown      1  0.0  1.0  0.0  \n",
       " 336        S   First  Southampton      0  0.0  0.0  1.0  \n",
       " 681        C   First    Cherbourg      1  1.0  0.0  0.0  \n",
       " 610        S   Third  Southampton      0  0.0  0.0  1.0  \n",
       " ..       ...     ...          ...    ...  ...  ...  ...  \n",
       " 360        S   Third  Southampton      0  0.0  0.0  1.0  \n",
       " 635        S  Second  Southampton      1  0.0  0.0  1.0  \n",
       " 245        Q   First   Queenstown      0  0.0  1.0  0.0  \n",
       " 768        Q   Third   Queenstown      0  0.0  1.0  0.0  \n",
       " 399        S  Second  Southampton      1  0.0  0.0  1.0  \n",
       " \n",
       " [668 rows x 15 columns],\n",
       "      passenger_id  survived  pclass     sex       age  sibsp  parch      fare  \\\n",
       " 114           114         0       3  female  0.225333      0      0  0.028221   \n",
       " 75             75         0       3    male  0.334058      0      0  0.014932   \n",
       " 52             52         1       1  female  0.660234      1      0  0.149765   \n",
       " 192           192         1       3  female  0.252514      1      0  0.015330   \n",
       " 575           575         0       3    male  0.252514      0      0  0.028302   \n",
       " ..            ...       ...     ...     ...       ...    ...    ...       ...   \n",
       " 699           699         0       3    male  0.565099      0      0  0.014932   \n",
       " 510           510         1       3    male  0.388421      0      0  0.015127   \n",
       " 885           885         0       3  female  0.524327      0      5  0.056848   \n",
       " 559           559         1       3  female  0.483555      1      0  0.033963   \n",
       " 229           229         0       3  female  0.389113      3      1  0.049708   \n",
       " \n",
       "     embarked  class  embark_town  alone    C    Q    S  \n",
       " 114        C  Third    Cherbourg      1  1.0  0.0  0.0  \n",
       " 75         S  Third  Southampton      1  0.0  0.0  1.0  \n",
       " 52         C  First    Cherbourg      0  1.0  0.0  0.0  \n",
       " 192        S  Third  Southampton      0  0.0  0.0  1.0  \n",
       " 575        S  Third  Southampton      1  0.0  0.0  1.0  \n",
       " ..       ...    ...          ...    ...  ...  ...  ...  \n",
       " 699        S  Third  Southampton      1  0.0  0.0  1.0  \n",
       " 510        Q  Third   Queenstown      1  0.0  1.0  0.0  \n",
       " 885        Q  Third   Queenstown      0  0.0  1.0  0.0  \n",
       " 559        S  Third  Southampton      0  0.0  0.0  1.0  \n",
       " 229        S  Third  Southampton      0  0.0  0.0  1.0  \n",
       " \n",
       " [223 rows x 15 columns])"
      ]
     },
     "execution_count": 3,
     "metadata": {},
     "output_type": "execute_result"
    }
   ],
   "source": [
    "prepare.prep_titanic(titanic)"
   ]
  },
  {
   "cell_type": "code",
   "execution_count": 5,
   "metadata": {},
   "outputs": [
    {
     "data": {
      "text/plain": [
       "(LabelEncoder(),\n",
       "      species  sepal_length  sepal_width  petal_length  petal_width\n",
       " 30         0           4.8          3.1           1.6          0.2\n",
       " 36         0           5.5          3.5           1.3          0.2\n",
       " 29         0           4.7          3.2           1.6          0.2\n",
       " 55         1           5.7          2.8           4.5          1.3\n",
       " 118        2           7.7          2.6           6.9          2.3\n",
       " ..       ...           ...          ...           ...          ...\n",
       " 11         0           4.8          3.4           1.6          0.2\n",
       " 0          0           5.1          3.5           1.4          0.2\n",
       " 104        2           6.5          3.0           5.8          2.2\n",
       " 7          0           5.0          3.4           1.5          0.2\n",
       " 147        2           6.5          3.0           5.2          2.0\n",
       " \n",
       " [112 rows x 5 columns],\n",
       "      species  sepal_length  sepal_width  petal_length  petal_width\n",
       " 135        2           7.7          3.0           6.1          2.3\n",
       " 34         0           4.9          3.1           1.5          0.2\n",
       " 61         1           5.9          3.0           4.2          1.5\n",
       " 117        2           7.7          3.8           6.7          2.2\n",
       " 42         0           4.4          3.2           1.3          0.2\n",
       " 38         0           4.4          3.0           1.3          0.2\n",
       " 65         1           6.7          3.1           4.4          1.4\n",
       " 125        2           7.2          3.2           6.0          1.8\n",
       " 80         1           5.5          2.4           3.8          1.1\n",
       " 19         0           5.1          3.8           1.5          0.3\n",
       " 64         1           5.6          2.9           3.6          1.3\n",
       " 33         0           5.5          4.2           1.4          0.2\n",
       " 115        2           6.4          3.2           5.3          2.3\n",
       " 146        2           6.3          2.5           5.0          1.9\n",
       " 94         1           5.6          2.7           4.2          1.3\n",
       " 116        2           6.5          3.0           5.5          1.8\n",
       " 28         0           5.2          3.4           1.4          0.2\n",
       " 32         0           5.2          4.1           1.5          0.1\n",
       " 9          0           4.9          3.1           1.5          0.1\n",
       " 17         0           5.1          3.5           1.4          0.3\n",
       " 40         0           5.0          3.5           1.3          0.3\n",
       " 22         0           4.6          3.6           1.0          0.2\n",
       " 93         1           5.0          2.3           3.3          1.0\n",
       " 144        2           6.7          3.3           5.7          2.5\n",
       " 2          0           4.7          3.2           1.3          0.2\n",
       " 77         1           6.7          3.0           5.0          1.7\n",
       " 122        2           7.7          2.8           6.7          2.0\n",
       " 138        2           6.0          3.0           4.8          1.8\n",
       " 110        2           6.5          3.2           5.1          2.0\n",
       " 56         1           6.3          3.3           4.7          1.6\n",
       " 66         1           5.6          3.0           4.5          1.5\n",
       " 101        2           5.8          2.7           5.1          1.9\n",
       " 68         1           6.2          2.2           4.5          1.5\n",
       " 76         1           6.8          2.8           4.8          1.4\n",
       " 105        2           7.6          3.0           6.6          2.1\n",
       " 86         1           6.7          3.1           4.7          1.5\n",
       " 127        2           6.1          3.0           4.9          1.8\n",
       " 92         1           5.8          2.6           4.0          1.2)"
      ]
     },
     "execution_count": 5,
     "metadata": {},
     "output_type": "execute_result"
    }
   ],
   "source": [
    "iris = acquire.get_iris_data(cached=True)\n",
    "prepare.prep_iris(iris)"
   ]
  },
  {
   "cell_type": "code",
   "execution_count": null,
   "metadata": {},
   "outputs": [],
   "source": []
  }
 ],
 "metadata": {
  "kernelspec": {
   "display_name": "Python 3",
   "language": "python",
   "name": "python3"
  },
  "language_info": {
   "codemirror_mode": {
    "name": "ipython",
    "version": 3
   },
   "file_extension": ".py",
   "mimetype": "text/x-python",
   "name": "python",
   "nbconvert_exporter": "python",
   "pygments_lexer": "ipython3",
   "version": "3.8.3"
  }
 },
 "nbformat": 4,
 "nbformat_minor": 4
}
